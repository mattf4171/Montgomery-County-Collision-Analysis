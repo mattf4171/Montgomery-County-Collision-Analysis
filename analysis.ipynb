{
 "cells": [
  {
   "cell_type": "markdown",
   "metadata": {},
   "source": [
    "# Montgomery County Collision Analysis"
   ]
  },
  {
   "cell_type": "markdown",
   "metadata": {},
   "source": [
    "## Introduction\n",
    "<br>We will be examining traffic collisions that occurred in Montgomery County, Maryland. Our data set has over fifteen thousand collision reports based on preliminary data. The data set includes columns such as the time of day that the crash occurred, the vehicle's impact locations, and the vehicle's movement at the time of the collision. We will be using this data to see what aspects of a crash lead to lower or higher rates of injury severity. Therefore, we are most interested in the correlation of 'Injury Severity', 'Vehicle Body Type', and 'Vehicle Movement' and others. We will create new columns based on factors that are most apparent to our exploration of the data."
   ]
  },
  {
   "cell_type": "code",
   "execution_count": 2,
   "metadata": {},
   "outputs": [],
   "source": [
    "import sys\n",
    "import numpy as np\n",
    "import pandas as pd\n",
    "import matplotlib.pyplot as plt\n",
    "import seaborn as sns\n",
    "import warnings\n",
    "warnings.filterwarnings('ignore')"
   ]
  },
  {
   "cell_type": "markdown",
   "metadata": {},
   "source": [
    "## Data Exploration"
   ]
  },
  {
   "cell_type": "code",
   "execution_count": 3,
   "metadata": {},
   "outputs": [],
   "source": [
    "df_county = pd.read_csv('./data/Crash_Reporting_-_Drivers_Data.csv')\n",
    "df_state = pd.read_csv('./data/Maryland_Statewide_Vehicle_Crashes.csv')\n",
    "df_nonmotor = pd.read_csv('./data/Crash_Reporting_-_Non-Motorists_Data.csv')"
   ]
  },
  {
   "cell_type": "code",
   "execution_count": 4,
   "metadata": {},
   "outputs": [
    {
     "data": {
      "text/html": [
       "<div>\n",
       "<style scoped>\n",
       "    .dataframe tbody tr th:only-of-type {\n",
       "        vertical-align: middle;\n",
       "    }\n",
       "\n",
       "    .dataframe tbody tr th {\n",
       "        vertical-align: top;\n",
       "    }\n",
       "\n",
       "    .dataframe thead th {\n",
       "        text-align: right;\n",
       "    }\n",
       "</style>\n",
       "<table border=\"1\" class=\"dataframe\">\n",
       "  <thead>\n",
       "    <tr style=\"text-align: right;\">\n",
       "      <th></th>\n",
       "      <th>Report Number</th>\n",
       "      <th>Local Case Number</th>\n",
       "      <th>Agency Name</th>\n",
       "      <th>ACRS Report Type</th>\n",
       "      <th>Crash Date/Time</th>\n",
       "      <th>Route Type</th>\n",
       "      <th>Road Name</th>\n",
       "      <th>Cross-Street Type</th>\n",
       "      <th>Cross-Street Name</th>\n",
       "      <th>Off-Road Description</th>\n",
       "      <th>...</th>\n",
       "      <th>Speed Limit</th>\n",
       "      <th>Driverless Vehicle</th>\n",
       "      <th>Parked Vehicle</th>\n",
       "      <th>Vehicle Year</th>\n",
       "      <th>Vehicle Make</th>\n",
       "      <th>Vehicle Model</th>\n",
       "      <th>Equipment Problems</th>\n",
       "      <th>Latitude</th>\n",
       "      <th>Longitude</th>\n",
       "      <th>Location</th>\n",
       "    </tr>\n",
       "  </thead>\n",
       "  <tbody>\n",
       "    <tr>\n",
       "      <th>0</th>\n",
       "      <td>DD5620004G</td>\n",
       "      <td>190046109</td>\n",
       "      <td>Rockville Police Departme</td>\n",
       "      <td>Property Damage Crash</td>\n",
       "      <td>09/26/2019 07:20:00 AM</td>\n",
       "      <td>NaN</td>\n",
       "      <td>NaN</td>\n",
       "      <td>NaN</td>\n",
       "      <td>NaN</td>\n",
       "      <td>PARKING LOT</td>\n",
       "      <td>...</td>\n",
       "      <td>15</td>\n",
       "      <td>No</td>\n",
       "      <td>No</td>\n",
       "      <td>2017</td>\n",
       "      <td>THOMAS</td>\n",
       "      <td>BUS</td>\n",
       "      <td>NO MISUSE</td>\n",
       "      <td>39.103518</td>\n",
       "      <td>-77.157669</td>\n",
       "      <td>(39.10351817, -77.15766933)</td>\n",
       "    </tr>\n",
       "    <tr>\n",
       "      <th>1</th>\n",
       "      <td>MCP29620057</td>\n",
       "      <td>200023865</td>\n",
       "      <td>Montgomery County Police</td>\n",
       "      <td>Property Damage Crash</td>\n",
       "      <td>06/18/2020 02:00:00 AM</td>\n",
       "      <td>County</td>\n",
       "      <td>DAIRYMAID DR</td>\n",
       "      <td>County</td>\n",
       "      <td>METZ DR</td>\n",
       "      <td>NaN</td>\n",
       "      <td>...</td>\n",
       "      <td>35</td>\n",
       "      <td>No</td>\n",
       "      <td>No</td>\n",
       "      <td>2020</td>\n",
       "      <td>UNK</td>\n",
       "      <td>UNK</td>\n",
       "      <td>UNKNOWN</td>\n",
       "      <td>39.154847</td>\n",
       "      <td>-77.271245</td>\n",
       "      <td>(39.15484667, -77.271245)</td>\n",
       "    </tr>\n",
       "    <tr>\n",
       "      <th>2</th>\n",
       "      <td>MCP2651004P</td>\n",
       "      <td>210035267</td>\n",
       "      <td>Montgomery County Police</td>\n",
       "      <td>Property Damage Crash</td>\n",
       "      <td>09/08/2021 12:30:00 PM</td>\n",
       "      <td>NaN</td>\n",
       "      <td>NaN</td>\n",
       "      <td>NaN</td>\n",
       "      <td>NaN</td>\n",
       "      <td>PARKING LOT OF 10109 COLESVILLE RD</td>\n",
       "      <td>...</td>\n",
       "      <td>0</td>\n",
       "      <td>No</td>\n",
       "      <td>No</td>\n",
       "      <td>2010</td>\n",
       "      <td>TOYOTA</td>\n",
       "      <td>SUV</td>\n",
       "      <td>UNKNOWN</td>\n",
       "      <td>39.020303</td>\n",
       "      <td>-77.011436</td>\n",
       "      <td>(39.02030267, -77.01143583)</td>\n",
       "    </tr>\n",
       "    <tr>\n",
       "      <th>3</th>\n",
       "      <td>MCP3050004K</td>\n",
       "      <td>200016465</td>\n",
       "      <td>Montgomery County Police</td>\n",
       "      <td>Property Damage Crash</td>\n",
       "      <td>04/19/2020 03:39:00 PM</td>\n",
       "      <td>County</td>\n",
       "      <td>RUSSETT RD</td>\n",
       "      <td>County</td>\n",
       "      <td>ARCTIC AVE</td>\n",
       "      <td>NaN</td>\n",
       "      <td>...</td>\n",
       "      <td>25</td>\n",
       "      <td>No</td>\n",
       "      <td>No</td>\n",
       "      <td>2004</td>\n",
       "      <td>DODGE</td>\n",
       "      <td>GRAND CARAVAN</td>\n",
       "      <td>NO MISUSE</td>\n",
       "      <td>39.080062</td>\n",
       "      <td>-77.097845</td>\n",
       "      <td>(39.08006167, -77.097845)</td>\n",
       "    </tr>\n",
       "    <tr>\n",
       "      <th>4</th>\n",
       "      <td>MCP2641001J</td>\n",
       "      <td>200016526</td>\n",
       "      <td>Montgomery County Police</td>\n",
       "      <td>Injury Crash</td>\n",
       "      <td>04/20/2020 09:15:00 AM</td>\n",
       "      <td>County</td>\n",
       "      <td>ARCHDALE RD</td>\n",
       "      <td>County</td>\n",
       "      <td>GUNNERS BRANCH RD</td>\n",
       "      <td>NaN</td>\n",
       "      <td>...</td>\n",
       "      <td>25</td>\n",
       "      <td>No</td>\n",
       "      <td>No</td>\n",
       "      <td>2006</td>\n",
       "      <td>HONDA</td>\n",
       "      <td>CR-V</td>\n",
       "      <td>UNKNOWN</td>\n",
       "      <td>39.175230</td>\n",
       "      <td>-77.241090</td>\n",
       "      <td>(39.17523, -77.24109)</td>\n",
       "    </tr>\n",
       "  </tbody>\n",
       "</table>\n",
       "<p>5 rows × 43 columns</p>\n",
       "</div>"
      ],
      "text/plain": [
       "  Report Number Local Case Number                Agency Name  \\\n",
       "0    DD5620004G         190046109  Rockville Police Departme   \n",
       "1   MCP29620057         200023865   Montgomery County Police   \n",
       "2   MCP2651004P         210035267   Montgomery County Police   \n",
       "3   MCP3050004K         200016465   Montgomery County Police   \n",
       "4   MCP2641001J         200016526   Montgomery County Police   \n",
       "\n",
       "        ACRS Report Type         Crash Date/Time Route Type     Road Name  \\\n",
       "0  Property Damage Crash  09/26/2019 07:20:00 AM        NaN           NaN   \n",
       "1  Property Damage Crash  06/18/2020 02:00:00 AM     County  DAIRYMAID DR   \n",
       "2  Property Damage Crash  09/08/2021 12:30:00 PM        NaN           NaN   \n",
       "3  Property Damage Crash  04/19/2020 03:39:00 PM     County    RUSSETT RD   \n",
       "4           Injury Crash  04/20/2020 09:15:00 AM     County   ARCHDALE RD   \n",
       "\n",
       "  Cross-Street Type  Cross-Street Name                Off-Road Description  \\\n",
       "0               NaN                NaN                         PARKING LOT   \n",
       "1            County            METZ DR                                 NaN   \n",
       "2               NaN                NaN  PARKING LOT OF 10109 COLESVILLE RD   \n",
       "3            County         ARCTIC AVE                                 NaN   \n",
       "4            County  GUNNERS BRANCH RD                                 NaN   \n",
       "\n",
       "   ... Speed Limit Driverless Vehicle Parked Vehicle Vehicle Year  \\\n",
       "0  ...          15                 No             No         2017   \n",
       "1  ...          35                 No             No         2020   \n",
       "2  ...           0                 No             No         2010   \n",
       "3  ...          25                 No             No         2004   \n",
       "4  ...          25                 No             No         2006   \n",
       "\n",
       "  Vehicle Make  Vehicle Model Equipment Problems   Latitude  Longitude  \\\n",
       "0       THOMAS            BUS          NO MISUSE  39.103518 -77.157669   \n",
       "1          UNK            UNK            UNKNOWN  39.154847 -77.271245   \n",
       "2       TOYOTA            SUV            UNKNOWN  39.020303 -77.011436   \n",
       "3        DODGE  GRAND CARAVAN          NO MISUSE  39.080062 -77.097845   \n",
       "4        HONDA           CR-V            UNKNOWN  39.175230 -77.241090   \n",
       "\n",
       "                      Location  \n",
       "0  (39.10351817, -77.15766933)  \n",
       "1    (39.15484667, -77.271245)  \n",
       "2  (39.02030267, -77.01143583)  \n",
       "3    (39.08006167, -77.097845)  \n",
       "4        (39.17523, -77.24109)  \n",
       "\n",
       "[5 rows x 43 columns]"
      ]
     },
     "execution_count": 4,
     "metadata": {},
     "output_type": "execute_result"
    }
   ],
   "source": [
    "df_county.head()"
   ]
  },
  {
   "cell_type": "code",
   "execution_count": 18,
   "metadata": {},
   "outputs": [
    {
     "data": {
      "text/plain": [
       "Maryland (State)        70708\n",
       "County                  50730\n",
       "Municipality             8623\n",
       "US (State)               6860\n",
       "Interstate (State)       2960\n",
       "Other Public Roadway     1040\n",
       "Government                610\n",
       "Ramp                      520\n",
       "Service Road               40\n",
       "Unknown                    19\n",
       "Name: Route Type, dtype: int64"
      ]
     },
     "execution_count": 18,
     "metadata": {},
     "output_type": "execute_result"
    }
   ],
   "source": [
    "df_county['Route Type'].value_counts()"
   ]
  },
  {
   "cell_type": "code",
   "execution_count": 19,
   "metadata": {},
   "outputs": [
    {
     "data": {
      "text/plain": [
       "CLEAR                       106202\n",
       "RAINING                      19026\n",
       "CLOUDY                       16044\n",
       "SNOW                          1432\n",
       "UNKNOWN                        627\n",
       "FOGGY                          623\n",
       "WINTRY MIX                     388\n",
       "OTHER                          346\n",
       "SLEET                          213\n",
       "SEVERE WINDS                   153\n",
       "BLOWING SNOW                   115\n",
       "BLOWING SAND, SOIL, DIRT        15\n",
       "Name: Weather, dtype: int64"
      ]
     },
     "execution_count": 19,
     "metadata": {},
     "output_type": "execute_result"
    }
   ],
   "source": [
    "df_county['Weather'].value_counts()"
   ]
  },
  {
   "cell_type": "code",
   "execution_count": 20,
   "metadata": {},
   "outputs": [
    {
     "data": {
      "text/plain": [
       "CLEAR           106202\n",
       "RAINING          19026\n",
       "CLOUDY           16044\n",
       "SNOW              1432\n",
       "OTHER              864\n",
       "UNKNOWN            627\n",
       "FOGGY              623\n",
       "SLEET              213\n",
       "SEVERE WINDS       153\n",
       "Name: Weather, dtype: int64"
      ]
     },
     "execution_count": 20,
     "metadata": {},
     "output_type": "execute_result"
    }
   ],
   "source": [
    "df_county['Weather'] = df_county['Weather'].replace(\n",
    "    {\"BLOWING SAND, SOIL, DIRT\": \"OTHER\", \n",
    "     \"WINTRY MIX\": \"OTHER\" , \"BLOWING SNOW\": \"OTHER\"})\n",
    "df_county['Weather'].value_counts()"
   ]
  },
  {
   "cell_type": "code",
   "execution_count": 21,
   "metadata": {},
   "outputs": [
    {
     "data": {
      "text/plain": [
       "Text(0, 0.5, '# of Accidents')"
      ]
     },
     "execution_count": 21,
     "metadata": {},
     "output_type": "execute_result"
    },
    {
     "data": {
      "image/png": "[encoded data removed]",
      "text/plain": [
       "<Figure size 432x288 with 1 Axes>"
      ]
     },
     "metadata": {
      "needs_background": "light"
     },
     "output_type": "display_data"
    }
   ],
   "source": [
    "df_county_weather = df_county[df_county['Weather'].notna()]\n",
    "\n",
    "weatherGroups = df_county_weather.groupby(\"Weather\")\n",
    "\n",
    "weather_Reports = weatherGroups['Report Number'].count()\n",
    "\n",
    "\n",
    "\n",
    "chart1 = weather_Reports.plot(kind=\"bar\", title=\"Accidents by Weather Type\")\n",
    "chart1.set_xlabel(\"Weather Type\")\n",
    "chart1.set_ylabel(\"# of Accidents\")"
   ]
  },
  {
   "cell_type": "code",
   "execution_count": null,
   "metadata": {},
   "outputs": [],
   "source": [
    "df_state.head()"
   ]
  },
  {
   "cell_type": "code",
   "execution_count": 5,
   "metadata": {},
   "outputs": [
    {
     "name": "stdout",
     "output_type": "stream",
     "text": [
      "<class 'pandas.core.frame.DataFrame'>\n",
      "RangeIndex: 878343 entries, 0 to 878342\n",
      "Data columns (total 55 columns):\n",
      " #   Column                 Non-Null Count   Dtype  \n",
      "---  ------                 --------------   -----  \n",
      " 0   YEAR                   878343 non-null  int64  \n",
      " 1   QUARTER                878343 non-null  object \n",
      " 2   LIGHT_DESC             841025 non-null  object \n",
      " 3   LIGHT_CODE             878343 non-null  float64\n",
      " 4   COUNTY_DESC            878329 non-null  object \n",
      " 5   COUNTY_NO              878329 non-null  float64\n",
      " 6   MUNI_DESC              0 non-null       float64\n",
      " 7   MUNI_CODE              659957 non-null  float64\n",
      " 8   JUNCTION_DESC          760119 non-null  object \n",
      " 9   JUNCTION_CODE          791512 non-null  float64\n",
      " 10  COLLISION_TYPE_DESC    878343 non-null  object \n",
      " 11  COLLISION_TYPE_CODE    878343 non-null  int64  \n",
      " 12  SURF_COND_DESC         789107 non-null  object \n",
      " 13  SURF_COND_CODE         791512 non-null  float64\n",
      " 14  LANE_CODE              668083 non-null  float64\n",
      " 15  RD_COND_DESC           791512 non-null  object \n",
      " 16  RD_COND_CODE           791512 non-null  float64\n",
      " 17  RD_DIV_DESC            786857 non-null  object \n",
      " 18  RD_DIV_CODE            791512 non-null  float64\n",
      " 19  FIX_OBJ_DESC           831232 non-null  object \n",
      " 20  FIX_OBJ_CODE           878343 non-null  float64\n",
      " 21  REPORT_NO              878343 non-null  object \n",
      " 22  REPORT_TYPE            767610 non-null  object \n",
      " 23  WEATHER_DESC           450477 non-null  object \n",
      " 24  WEATHER_CODE           878343 non-null  float64\n",
      " 25  ACC_DATE               878343 non-null  int64  \n",
      " 26  ACC_TIME               878343 non-null  object \n",
      " 27  LOC_CODE               401188 non-null  object \n",
      " 28  SIGNAL_FLAG_DESC       878343 non-null  object \n",
      " 29  SIGNAL_FLAG            878343 non-null  object \n",
      " 30  C_M_ZONE_FLAG          878343 non-null  object \n",
      " 31  AGENCY_CODE            878343 non-null  object \n",
      " 32  AREA_CODE              878343 non-null  object \n",
      " 33  HARM_EVENT_DESC1       282884 non-null  object \n",
      " 34  HARM_EVENT_CODE1       878343 non-null  float64\n",
      " 35  HARM_EVENT_DESC2       878343 non-null  object \n",
      " 36  HARM_EVENT_CODE2       878343 non-null  float64\n",
      " 37  RTE_NO                 702722 non-null  float64\n",
      " 38  ROUTE_TYPE_CODE        704483 non-null  object \n",
      " 39  RTE_SUFFIX             18031 non-null   object \n",
      " 40  LOG_MILE               788015 non-null  float64\n",
      " 41  LOGMILE_DIR_FLAG_DESC  707681 non-null  object \n",
      " 42  LOGMILE_DIR_FLAG       707699 non-null  object \n",
      " 43  MAINROAD_NAME          791503 non-null  object \n",
      " 44  DISTANCE               772976 non-null  float64\n",
      " 45  FEET_MILES_FLAG_DESC   299396 non-null  object \n",
      " 46  FEET_MILES_FLAG        791511 non-null  object \n",
      " 47  DISTANCE_DIR_FLAG      788134 non-null  object \n",
      " 48  REFERENCE_NO           695509 non-null  float64\n",
      " 49  REFERENCE_TYPE_CODE    704721 non-null  object \n",
      " 50  REFERENCE_SUFFIX       19077 non-null   object \n",
      " 51  REFERENCE_ROAD_NAME    790703 non-null  object \n",
      " 52  LATITUDE               878343 non-null  float64\n",
      " 53  LONGITUDE              878343 non-null  float64\n",
      " 54  LOCATION               878343 non-null  object \n",
      "dtypes: float64(19), int64(3), object(33)\n",
      "memory usage: 368.6+ MB\n"
     ]
    }
   ],
   "source": [
    "df_state.info()"
   ]
  },
  {
   "cell_type": "code",
   "execution_count": null,
   "metadata": {},
   "outputs": [],
   "source": []
  },
  {
   "cell_type": "code",
   "execution_count": null,
   "metadata": {},
   "outputs": [],
   "source": [
    "df_nonmotor.head()"
   ]
  },
  {
   "cell_type": "code",
   "execution_count": 6,
   "metadata": {},
   "outputs": [
    {
     "name": "stdout",
     "output_type": "stream",
     "text": [
      "<class 'pandas.core.frame.DataFrame'>\n",
      "RangeIndex: 5131 entries, 0 to 5130\n",
      "Data columns (total 32 columns):\n",
      " #   Column                            Non-Null Count  Dtype  \n",
      "---  ------                            --------------  -----  \n",
      " 0   Report Number                     5131 non-null   object \n",
      " 1   Local Case Number                 5131 non-null   int64  \n",
      " 2   Agency Name                       5131 non-null   object \n",
      " 3   ACRS Report Type                  5131 non-null   object \n",
      " 4   Crash Date/Time                   5131 non-null   object \n",
      " 5   Route Type                        3928 non-null   object \n",
      " 6   Road Name                         3993 non-null   object \n",
      " 7   Cross-Street Type                 3928 non-null   object \n",
      " 8   Cross-Street Name                 3992 non-null   object \n",
      " 9   Off-Road Description              1138 non-null   object \n",
      " 10  Municipality                      565 non-null    object \n",
      " 11  Related Non-Motorist              5131 non-null   object \n",
      " 12  Collision Type                    4969 non-null   object \n",
      " 13  Weather                           4697 non-null   object \n",
      " 14  Surface Condition                 3857 non-null   object \n",
      " 15  Light                             5087 non-null   object \n",
      " 16  Traffic Control                   4378 non-null   object \n",
      " 17  Driver Substance Abuse            4156 non-null   object \n",
      " 18  Non-Motorist Substance Abuse      4049 non-null   object \n",
      " 19  Person ID                         5131 non-null   object \n",
      " 20  Pedestrian Type                   5131 non-null   object \n",
      " 21  Pedestrian Movement               4992 non-null   object \n",
      " 22  Pedestrian Actions                4860 non-null   object \n",
      " 23  Pedestrian Location               4987 non-null   object \n",
      " 24  Pedestrian Obeyed Traffic Signal  3601 non-null   object \n",
      " 25  Pedestrian Visibility             4645 non-null   object \n",
      " 26  At Fault                          4844 non-null   object \n",
      " 27  Injury Severity                   5131 non-null   object \n",
      " 28  Safety Equipment                  3368 non-null   object \n",
      " 29  Latitude                          5131 non-null   float64\n",
      " 30  Longitude                         5131 non-null   float64\n",
      " 31  Location                          5131 non-null   object \n",
      "dtypes: float64(2), int64(1), object(29)\n",
      "memory usage: 1.3+ MB\n"
     ]
    }
   ],
   "source": [
    "df_nonmotor.info()"
   ]
  },
  {
   "cell_type": "markdown",
   "metadata": {},
   "source": [
    "## Data Cleaning"
   ]
  },
  {
   "cell_type": "markdown",
   "metadata": {},
   "source": []
  },
  {
   "cell_type": "markdown",
   "metadata": {},
   "source": [
    "## Data Visualization"
   ]
  },
  {
   "cell_type": "markdown",
   "metadata": {},
   "source": []
  },
  {
   "cell_type": "markdown",
   "metadata": {},
   "source": [
    "## Conclusion"
   ]
  },
  {
   "cell_type": "markdown",
   "metadata": {},
   "source": []
  }
 ],
 "metadata": {
  "kernelspec": {
   "display_name": "Python 3 (ipykernel)",
   "language": "python",
   "name": "python3"
  },
  "language_info": {
   "codemirror_mode": {
    "name": "ipython",
    "version": 3
   },
   "file_extension": ".py",
   "mimetype": "text/x-python",
   "name": "python",
   "nbconvert_exporter": "python",
   "pygments_lexer": "ipython3",
   "version": "3.9.13"
  }
 },
 "nbformat": 4,
 "nbformat_minor": 2
}
