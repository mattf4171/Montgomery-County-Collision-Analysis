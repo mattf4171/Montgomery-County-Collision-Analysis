{
 "cells": [
  {
   "cell_type": "markdown",
   "metadata": {},
   "source": [
    "# Montgomery County Collision Analysis"
   ]
  },
  {
   "cell_type": "markdown",
   "metadata": {},
   "source": [
    "## Introduction\n",
    "<br>We will be examining traffic collisions that occurred in Montgomery County, Maryland. Our data set has over fifteen thousand collision reports based on preliminary data. The data set includes columns such as the time of day that the crash occurred, the vehicle's impact locations, and the vehicle's movement at the time of the collision. We will be using this data to see what aspects of a crash lead to lower or higher rates of injury severity. Therefore, we are most interested in the correlation of 'Injury Severity', 'Vehicle Body Type', and 'Vehicle Movement' and others. We will create new columns based on factors that are most apparent to our exploration of the data."
   ]
  },
  {
   "cell_type": "code",
   "execution_count": 58,
   "metadata": {},
   "outputs": [],
   "source": [
    "import sys\n",
    "import numpy as np\n",
    "import pandas as pd\n",
    "import matplotlib.pyplot as plt\n",
    "import seaborn as sns\n",
    "\n",
    "import warnings\n",
    "warnings.filterwarnings('ignore')"
   ]
  },
  {
   "cell_type": "markdown",
   "metadata": {},
   "source": [
    "## Data Exploration"
   ]
  },
  {
   "cell_type": "code",
   "execution_count": 59,
   "metadata": {},
   "outputs": [],
   "source": [
    "df_county = pd.read_csv('data/Crash_Reporting_-_Drivers_Data.csv')\n",
    "df_state = pd.read_csv('data/Maryland_Statewide_Vehicle_Crashes.csv')\n",
    "df_nonmotor = pd.read_csv('data/Crash_Reporting_-_Non-Motorists_Data.csv')"
   ]
  },
  {
   "cell_type": "code",
   "execution_count": 60,
   "metadata": {},
   "outputs": [
    {
     "name": "stdout",
     "output_type": "stream",
     "text": [
      "<class 'pandas.core.frame.DataFrame'>\n",
      "RangeIndex: 157554 entries, 0 to 157553\n",
      "Data columns (total 43 columns):\n",
      " #   Column                          Non-Null Count   Dtype  \n",
      "---  ------                          --------------   -----  \n",
      " 0   Report Number                   157554 non-null  object \n",
      " 1   Local Case Number               157554 non-null  object \n",
      " 2   Agency Name                     157554 non-null  object \n",
      " 3   ACRS Report Type                157554 non-null  object \n",
      " 4   Crash Date/Time                 157554 non-null  object \n",
      " 5   Route Type                      142110 non-null  object \n",
      " 6   Road Name                       142960 non-null  object \n",
      " 7   Cross-Street Type               142086 non-null  object \n",
      " 8   Cross-Street Name               142954 non-null  object \n",
      " 9   Off-Road Description            14592 non-null   object \n",
      " 10  Municipality                    17502 non-null   object \n",
      " 11  Related Non-Motorist            4958 non-null    object \n",
      " 12  Collision Type                  157028 non-null  object \n",
      " 13  Weather                         145184 non-null  object \n",
      " 14  Surface Condition               139068 non-null  object \n",
      " 15  Light                           156248 non-null  object \n",
      " 16  Traffic Control                 133850 non-null  object \n",
      " 17  Driver Substance Abuse          128915 non-null  object \n",
      " 18  Non-Motorist Substance Abuse    3929 non-null    object \n",
      " 19  Person ID                       157554 non-null  object \n",
      " 20  Driver At Fault                 157554 non-null  object \n",
      " 21  Injury Severity                 157554 non-null  object \n",
      " 22  Circumstance                    29147 non-null   object \n",
      " 23  Driver Distracted By            157554 non-null  object \n",
      " 24  Drivers License State           148809 non-null  object \n",
      " 25  Vehicle ID                      157554 non-null  object \n",
      " 26  Vehicle Damage Extent           157277 non-null  object \n",
      " 27  Vehicle First Impact Location   157398 non-null  object \n",
      " 28  Vehicle Second Impact Location  157298 non-null  object \n",
      " 29  Vehicle Body Type               155143 non-null  object \n",
      " 30  Vehicle Movement                157222 non-null  object \n",
      " 31  Vehicle Continuing Dir          155105 non-null  object \n",
      " 32  Vehicle Going Dir               155105 non-null  object \n",
      " 33  Speed Limit                     157554 non-null  int64  \n",
      " 34  Driverless Vehicle              157554 non-null  object \n",
      " 35  Parked Vehicle                  157554 non-null  object \n",
      " 36  Vehicle Year                    157554 non-null  int64  \n",
      " 37  Vehicle Make                    157532 non-null  object \n",
      " 38  Vehicle Model                   157494 non-null  object \n",
      " 39  Equipment Problems              125576 non-null  object \n",
      " 40  Latitude                        157554 non-null  float64\n",
      " 41  Longitude                       157554 non-null  float64\n",
      " 42  Location                        157554 non-null  object \n",
      "dtypes: float64(2), int64(2), object(39)\n",
      "memory usage: 51.7+ MB\n"
     ]
    }
   ],
   "source": [
    "df_county.info()\n",
    "# What was the correlation of weather data set combined with county data?\n",
    "\n",
    "## Fill in na values w/r to timestamp of weather data set."
   ]
  },
  {
   "cell_type": "code",
   "execution_count": 61,
   "metadata": {},
   "outputs": [
    {
     "name": "stdout",
     "output_type": "stream",
     "text": [
      "<class 'pandas.core.frame.DataFrame'>\n",
      "RangeIndex: 157554 entries, 0 to 157553\n",
      "Data columns (total 44 columns):\n",
      " #   Column                          Non-Null Count   Dtype         \n",
      "---  ------                          --------------   -----         \n",
      " 0   Report Number                   157554 non-null  object        \n",
      " 1   Local Case Number               157554 non-null  object        \n",
      " 2   Agency Name                     157554 non-null  object        \n",
      " 3   ACRS Report Type                157554 non-null  object        \n",
      " 4   Crash Date/Time                 157554 non-null  datetime64[ns]\n",
      " 5   Route Type                      142110 non-null  object        \n",
      " 6   Road Name                       142960 non-null  object        \n",
      " 7   Cross-Street Type               142086 non-null  object        \n",
      " 8   Cross-Street Name               142954 non-null  object        \n",
      " 9   Off-Road Description            14592 non-null   object        \n",
      " 10  Municipality                    17502 non-null   object        \n",
      " 11  Related Non-Motorist            4958 non-null    object        \n",
      " 12  Collision Type                  157028 non-null  object        \n",
      " 13  Weather                         145184 non-null  object        \n",
      " 14  Surface Condition               139068 non-null  object        \n",
      " 15  Light                           156248 non-null  object        \n",
      " 16  Traffic Control                 133850 non-null  object        \n",
      " 17  Driver Substance Abuse          128915 non-null  object        \n",
      " 18  Non-Motorist Substance Abuse    3929 non-null    object        \n",
      " 19  Person ID                       157554 non-null  object        \n",
      " 20  Driver At Fault                 157554 non-null  object        \n",
      " 21  Injury Severity                 157554 non-null  object        \n",
      " 22  Circumstance                    29147 non-null   object        \n",
      " 23  Driver Distracted By            157554 non-null  object        \n",
      " 24  Drivers License State           148809 non-null  object        \n",
      " 25  Vehicle ID                      157554 non-null  object        \n",
      " 26  Vehicle Damage Extent           157277 non-null  object        \n",
      " 27  Vehicle First Impact Location   157398 non-null  object        \n",
      " 28  Vehicle Second Impact Location  157298 non-null  object        \n",
      " 29  Vehicle Body Type               155143 non-null  object        \n",
      " 30  Vehicle Movement                157222 non-null  object        \n",
      " 31  Vehicle Continuing Dir          155105 non-null  object        \n",
      " 32  Vehicle Going Dir               155105 non-null  object        \n",
      " 33  Speed Limit                     157554 non-null  int64         \n",
      " 34  Driverless Vehicle              157554 non-null  object        \n",
      " 35  Parked Vehicle                  157554 non-null  object        \n",
      " 36  Vehicle Year                    157554 non-null  int64         \n",
      " 37  Vehicle Make                    157532 non-null  object        \n",
      " 38  Vehicle Model                   157494 non-null  object        \n",
      " 39  Equipment Problems              125576 non-null  object        \n",
      " 40  Latitude                        157554 non-null  float64       \n",
      " 41  Longitude                       157554 non-null  float64       \n",
      " 42  Location                        157554 non-null  object        \n",
      " 43  YEAR                            157554 non-null  int64         \n",
      "dtypes: datetime64[ns](1), float64(2), int64(3), object(38)\n",
      "memory usage: 52.9+ MB\n"
     ]
    }
   ],
   "source": [
    "df_county['Crash Date/Time'] = pd.to_datetime(df_county['Crash Date/Time'])\n",
    "df_county['YEAR'] = df_county['Crash Date/Time'].dt.year\n",
    "df_county.info()"
   ]
  },
  {
   "cell_type": "code",
   "execution_count": 62,
   "metadata": {},
   "outputs": [
    {
     "name": "stdout",
     "output_type": "stream",
     "text": [
      "<class 'pandas.core.frame.DataFrame'>\n",
      "RangeIndex: 878343 entries, 0 to 878342\n",
      "Data columns (total 55 columns):\n",
      " #   Column                 Non-Null Count   Dtype  \n",
      "---  ------                 --------------   -----  \n",
      " 0   YEAR                   878343 non-null  int64  \n",
      " 1   QUARTER                878343 non-null  object \n",
      " 2   LIGHT_DESC             841025 non-null  object \n",
      " 3   LIGHT_CODE             878343 non-null  float64\n",
      " 4   COUNTY_DESC            878329 non-null  object \n",
      " 5   COUNTY_NO              878329 non-null  float64\n",
      " 6   MUNI_DESC              0 non-null       float64\n",
      " 7   MUNI_CODE              659957 non-null  float64\n",
      " 8   JUNCTION_DESC          760119 non-null  object \n",
      " 9   JUNCTION_CODE          791512 non-null  float64\n",
      " 10  COLLISION_TYPE_DESC    878343 non-null  object \n",
      " 11  COLLISION_TYPE_CODE    878343 non-null  int64  \n",
      " 12  SURF_COND_DESC         789107 non-null  object \n",
      " 13  SURF_COND_CODE         791512 non-null  float64\n",
      " 14  LANE_CODE              668083 non-null  float64\n",
      " 15  RD_COND_DESC           791512 non-null  object \n",
      " 16  RD_COND_CODE           791512 non-null  float64\n",
      " 17  RD_DIV_DESC            786857 non-null  object \n",
      " 18  RD_DIV_CODE            791512 non-null  float64\n",
      " 19  FIX_OBJ_DESC           831232 non-null  object \n",
      " 20  FIX_OBJ_CODE           878343 non-null  float64\n",
      " 21  REPORT_NO              878343 non-null  object \n",
      " 22  REPORT_TYPE            767610 non-null  object \n",
      " 23  WEATHER_DESC           450477 non-null  object \n",
      " 24  WEATHER_CODE           878343 non-null  float64\n",
      " 25  ACC_DATE               878343 non-null  int64  \n",
      " 26  ACC_TIME               878343 non-null  object \n",
      " 27  LOC_CODE               401188 non-null  object \n",
      " 28  SIGNAL_FLAG_DESC       878343 non-null  object \n",
      " 29  SIGNAL_FLAG            878343 non-null  object \n",
      " 30  C_M_ZONE_FLAG          878343 non-null  object \n",
      " 31  AGENCY_CODE            878343 non-null  object \n",
      " 32  AREA_CODE              878343 non-null  object \n",
      " 33  HARM_EVENT_DESC1       282884 non-null  object \n",
      " 34  HARM_EVENT_CODE1       878343 non-null  float64\n",
      " 35  HARM_EVENT_DESC2       878343 non-null  object \n",
      " 36  HARM_EVENT_CODE2       878343 non-null  float64\n",
      " 37  RTE_NO                 702722 non-null  float64\n",
      " 38  ROUTE_TYPE_CODE        704483 non-null  object \n",
      " 39  RTE_SUFFIX             18031 non-null   object \n",
      " 40  LOG_MILE               788015 non-null  float64\n",
      " 41  LOGMILE_DIR_FLAG_DESC  707681 non-null  object \n",
      " 42  LOGMILE_DIR_FLAG       707699 non-null  object \n",
      " 43  MAINROAD_NAME          791503 non-null  object \n",
      " 44  DISTANCE               772976 non-null  float64\n",
      " 45  FEET_MILES_FLAG_DESC   299396 non-null  object \n",
      " 46  FEET_MILES_FLAG        791511 non-null  object \n",
      " 47  DISTANCE_DIR_FLAG      788134 non-null  object \n",
      " 48  REFERENCE_NO           695509 non-null  float64\n",
      " 49  REFERENCE_TYPE_CODE    704721 non-null  object \n",
      " 50  REFERENCE_SUFFIX       19077 non-null   object \n",
      " 51  REFERENCE_ROAD_NAME    790703 non-null  object \n",
      " 52  LATITUDE               878343 non-null  float64\n",
      " 53  LONGITUDE              878343 non-null  float64\n",
      " 54  LOCATION               878343 non-null  object \n",
      "dtypes: float64(19), int64(3), object(33)\n",
      "memory usage: 368.6+ MB\n"
     ]
    }
   ],
   "source": [
    "df_state.info()"
   ]
  },
  {
   "cell_type": "code",
   "execution_count": 63,
   "metadata": {},
   "outputs": [
    {
     "name": "stdout",
     "output_type": "stream",
     "text": [
      "<class 'pandas.core.frame.DataFrame'>\n",
      "Int64Index: 157554 entries, 0 to 157553\n",
      "Data columns (total 75 columns):\n",
      " #   Column                            Non-Null Count   Dtype         \n",
      "---  ------                            --------------   -----         \n",
      " 0   Report Number                     157554 non-null  object        \n",
      " 1   Local Case Number_x               157554 non-null  object        \n",
      " 2   Agency Name_x                     157554 non-null  object        \n",
      " 3   ACRS Report Type_x                157554 non-null  object        \n",
      " 4   Crash Date/Time_x                 157554 non-null  datetime64[ns]\n",
      " 5   Route Type_x                      142110 non-null  object        \n",
      " 6   Road Name_x                       142960 non-null  object        \n",
      " 7   Cross-Street Type_x               142086 non-null  object        \n",
      " 8   Cross-Street Name_x               142954 non-null  object        \n",
      " 9   Off-Road Description_x            14592 non-null   object        \n",
      " 10  Municipality_x                    17502 non-null   object        \n",
      " 11  Related Non-Motorist_x            4958 non-null    object        \n",
      " 12  Collision Type_x                  157028 non-null  object        \n",
      " 13  Weather_x                         145184 non-null  object        \n",
      " 14  Surface Condition_x               139068 non-null  object        \n",
      " 15  Light_x                           156248 non-null  object        \n",
      " 16  Traffic Control_x                 133850 non-null  object        \n",
      " 17  Driver Substance Abuse_x          128915 non-null  object        \n",
      " 18  Non-Motorist Substance Abuse_x    3929 non-null    object        \n",
      " 19  Person ID_x                       157554 non-null  object        \n",
      " 20  Driver At Fault                   157554 non-null  object        \n",
      " 21  Injury Severity_x                 157554 non-null  object        \n",
      " 22  Circumstance                      29147 non-null   object        \n",
      " 23  Driver Distracted By              157554 non-null  object        \n",
      " 24  Drivers License State             148809 non-null  object        \n",
      " 25  Vehicle ID                        157554 non-null  object        \n",
      " 26  Vehicle Damage Extent             157277 non-null  object        \n",
      " 27  Vehicle First Impact Location     157398 non-null  object        \n",
      " 28  Vehicle Second Impact Location    157298 non-null  object        \n",
      " 29  Vehicle Body Type                 155143 non-null  object        \n",
      " 30  Vehicle Movement                  157222 non-null  object        \n",
      " 31  Vehicle Continuing Dir            155105 non-null  object        \n",
      " 32  Vehicle Going Dir                 155105 non-null  object        \n",
      " 33  Speed Limit                       157554 non-null  int64         \n",
      " 34  Driverless Vehicle                157554 non-null  object        \n",
      " 35  Parked Vehicle                    157554 non-null  object        \n",
      " 36  Vehicle Year                      157554 non-null  int64         \n",
      " 37  Vehicle Make                      157532 non-null  object        \n",
      " 38  Vehicle Model                     157494 non-null  object        \n",
      " 39  Equipment Problems                125576 non-null  object        \n",
      " 40  Latitude_x                        157554 non-null  float64       \n",
      " 41  Longitude_x                       157554 non-null  float64       \n",
      " 42  Location_x                        157554 non-null  object        \n",
      " 43  YEAR                              157554 non-null  int64         \n",
      " 44  Local Case Number_y               0 non-null       float64       \n",
      " 45  Agency Name_y                     0 non-null       object        \n",
      " 46  ACRS Report Type_y                0 non-null       object        \n",
      " 47  Crash Date/Time_y                 0 non-null       object        \n",
      " 48  Route Type_y                      0 non-null       object        \n",
      " 49  Road Name_y                       0 non-null       object        \n",
      " 50  Cross-Street Type_y               0 non-null       object        \n",
      " 51  Cross-Street Name_y               0 non-null       object        \n",
      " 52  Off-Road Description_y            0 non-null       object        \n",
      " 53  Municipality_y                    0 non-null       object        \n",
      " 54  Related Non-Motorist_y            0 non-null       object        \n",
      " 55  Collision Type_y                  0 non-null       object        \n",
      " 56  Weather_y                         0 non-null       object        \n",
      " 57  Surface Condition_y               0 non-null       object        \n",
      " 58  Light_y                           0 non-null       object        \n",
      " 59  Traffic Control_y                 0 non-null       object        \n",
      " 60  Driver Substance Abuse_y          0 non-null       object        \n",
      " 61  Non-Motorist Substance Abuse_y    0 non-null       object        \n",
      " 62  Person ID_y                       0 non-null       object        \n",
      " 63  Pedestrian Type                   0 non-null       object        \n",
      " 64  Pedestrian Movement               0 non-null       object        \n",
      " 65  Pedestrian Actions                0 non-null       object        \n",
      " 66  Pedestrian Location               0 non-null       object        \n",
      " 67  Pedestrian Obeyed Traffic Signal  0 non-null       object        \n",
      " 68  Pedestrian Visibility             0 non-null       object        \n",
      " 69  At Fault                          0 non-null       object        \n",
      " 70  Injury Severity_y                 0 non-null       object        \n",
      " 71  Safety Equipment                  0 non-null       object        \n",
      " 72  Latitude_y                        0 non-null       float64       \n",
      " 73  Longitude_y                       0 non-null       float64       \n",
      " 74  Location_y                        0 non-null       object        \n",
      "dtypes: datetime64[ns](1), float64(5), int64(3), object(66)\n",
      "memory usage: 91.4+ MB\n"
     ]
    }
   ],
   "source": [
    "# Merge the two dataframes with the values that do not already exist in the county data\n",
    "df_county = pd.merge(left=df_county, right=df_nonmotor[~df_nonmotor['Report Number'].isin(df_county['Report Number'])], on='Report Number', how='left')\n",
    "df_county.info()"
   ]
  },
  {
   "cell_type": "markdown",
   "metadata": {},
   "source": []
  },
  {
   "cell_type": "markdown",
   "metadata": {},
   "source": [
    "## Data Cleaning\n",
    "<br>\n",
    "Let us now drop columns that are missing more than 10% of values on average"
   ]
  },
  {
   "cell_type": "code",
   "execution_count": 64,
   "metadata": {},
   "outputs": [
    {
     "name": "stdout",
     "output_type": "stream",
     "text": [
      "<class 'pandas.core.frame.DataFrame'>\n",
      "Int64Index: 157554 entries, 0 to 157553\n",
      "Data columns (total 35 columns):\n",
      " #   Column                          Non-Null Count   Dtype         \n",
      "---  ------                          --------------   -----         \n",
      " 0   Report Number                   157554 non-null  object        \n",
      " 1   Local Case Number_x             157554 non-null  object        \n",
      " 2   Agency Name_x                   157554 non-null  object        \n",
      " 3   ACRS Report Type_x              157554 non-null  object        \n",
      " 4   Crash Date/Time_x               157554 non-null  datetime64[ns]\n",
      " 5   Route Type_x                    142110 non-null  object        \n",
      " 6   Road Name_x                     142960 non-null  object        \n",
      " 7   Cross-Street Type_x             142086 non-null  object        \n",
      " 8   Cross-Street Name_x             142954 non-null  object        \n",
      " 9   Collision Type_x                157028 non-null  object        \n",
      " 10  Weather_x                       145184 non-null  object        \n",
      " 11  Light_x                         156248 non-null  object        \n",
      " 12  Person ID_x                     157554 non-null  object        \n",
      " 13  Driver At Fault                 157554 non-null  object        \n",
      " 14  Injury Severity_x               157554 non-null  object        \n",
      " 15  Driver Distracted By            157554 non-null  object        \n",
      " 16  Drivers License State           148809 non-null  object        \n",
      " 17  Vehicle ID                      157554 non-null  object        \n",
      " 18  Vehicle Damage Extent           157277 non-null  object        \n",
      " 19  Vehicle First Impact Location   157398 non-null  object        \n",
      " 20  Vehicle Second Impact Location  157298 non-null  object        \n",
      " 21  Vehicle Body Type               155143 non-null  object        \n",
      " 22  Vehicle Movement                157222 non-null  object        \n",
      " 23  Vehicle Continuing Dir          155105 non-null  object        \n",
      " 24  Vehicle Going Dir               155105 non-null  object        \n",
      " 25  Speed Limit                     157554 non-null  int64         \n",
      " 26  Driverless Vehicle              157554 non-null  object        \n",
      " 27  Parked Vehicle                  157554 non-null  object        \n",
      " 28  Vehicle Year                    157554 non-null  int64         \n",
      " 29  Vehicle Make                    157532 non-null  object        \n",
      " 30  Vehicle Model                   157494 non-null  object        \n",
      " 31  Latitude_x                      157554 non-null  float64       \n",
      " 32  Longitude_x                     157554 non-null  float64       \n",
      " 33  Location_x                      157554 non-null  object        \n",
      " 34  YEAR                            157554 non-null  int64         \n",
      "dtypes: datetime64[ns](1), float64(2), int64(3), object(29)\n",
      "memory usage: 43.3+ MB\n"
     ]
    }
   ],
   "source": [
    "df_county.drop(columns=df_county.columns[df_county.isna().mean() >= .1], inplace=True)\n",
    "df_county.info()"
   ]
  },
  {
   "cell_type": "code",
   "execution_count": 65,
   "metadata": {},
   "outputs": [
    {
     "data": {
      "text/plain": [
       "CLEAR                       106202\n",
       "RAINING                      19026\n",
       "CLOUDY                       16044\n",
       "SNOW                          1432\n",
       "UNKNOWN                        627\n",
       "FOGGY                          623\n",
       "WINTRY MIX                     388\n",
       "OTHER                          346\n",
       "SLEET                          213\n",
       "SEVERE WINDS                   153\n",
       "BLOWING SNOW                   115\n",
       "BLOWING SAND, SOIL, DIRT        15\n",
       "Name: Weather_x, dtype: int64"
      ]
     },
     "execution_count": 65,
     "metadata": {},
     "output_type": "execute_result"
    }
   ],
   "source": [
    "df_county['Weather_x'].value_counts()"
   ]
  },
  {
   "cell_type": "markdown",
   "metadata": {},
   "source": [
    "Let us overwrite the state DataFrame with only the columns that we would like to analyze."
   ]
  },
  {
   "cell_type": "code",
   "execution_count": 66,
   "metadata": {},
   "outputs": [
    {
     "data": {
      "text/plain": [
       "YEAR                       0\n",
       "LIGHT_DESC             37318\n",
       "COUNTY_DESC               14\n",
       "COLLISION_TYPE_DESC        0\n",
       "REPORT_NO                  0\n",
       "WEATHER_CODE               0\n",
       "ACC_DATE                   0\n",
       "LATITUDE                   0\n",
       "LONGITUDE                  0\n",
       "LOCATION                   0\n",
       "dtype: int64"
      ]
     },
     "execution_count": 66,
     "metadata": {},
     "output_type": "execute_result"
    }
   ],
   "source": [
    "df_state = df_state[[  'YEAR', 'LIGHT_DESC', 'COUNTY_DESC',\n",
    "                       'COLLISION_TYPE_DESC',\n",
    "                       'REPORT_NO', 'WEATHER_CODE', 'ACC_DATE',\n",
    "                       'LATITUDE', 'LONGITUDE', 'LOCATION']]\n",
    "df_state.isna().sum()"
   ]
  },
  {
   "cell_type": "code",
   "execution_count": 68,
   "metadata": {},
   "outputs": [],
   "source": [
    "df_state['LIGHT_DESC'] = df_state['LIGHT_DESC'].fillna(df_state['LIGHT_DESC'].value_counts().index[0])\n",
    "df_state['COUNTY_DESC'] = df_state['COUNTY_DESC'].fillna('NA')"
   ]
  },
  {
   "cell_type": "code",
   "execution_count": 69,
   "metadata": {},
   "outputs": [
    {
     "name": "stdout",
     "output_type": "stream",
     "text": [
      "<class 'pandas.core.frame.DataFrame'>\n",
      "RangeIndex: 878343 entries, 0 to 878342\n",
      "Data columns (total 10 columns):\n",
      " #   Column               Non-Null Count   Dtype  \n",
      "---  ------               --------------   -----  \n",
      " 0   YEAR                 878343 non-null  int64  \n",
      " 1   LIGHT_DESC           878343 non-null  object \n",
      " 2   COUNTY_DESC          878343 non-null  object \n",
      " 3   COLLISION_TYPE_DESC  878343 non-null  object \n",
      " 4   REPORT_NO            878343 non-null  object \n",
      " 5   WEATHER_CODE         878343 non-null  float64\n",
      " 6   ACC_DATE             878343 non-null  int64  \n",
      " 7   LATITUDE             878343 non-null  float64\n",
      " 8   LONGITUDE            878343 non-null  float64\n",
      " 9   LOCATION             878343 non-null  object \n",
      "dtypes: float64(3), int64(2), object(5)\n",
      "memory usage: 67.0+ MB\n"
     ]
    }
   ],
   "source": [
    "df_state.info()"
   ]
  },
  {
   "cell_type": "code",
   "execution_count": 70,
   "metadata": {},
   "outputs": [
    {
     "data": {
      "text/plain": [
       "PASSENGER CAR                                                108929\n",
       "(SPORT) UTILITY VEHICLE                                       14517\n",
       "PICKUP TRUCK                                                   6248\n",
       "VAN                                                            4574\n",
       "TRANSIT BUS                                                    3329\n",
       "SCHOOL BUS                                                     2671\n",
       "POLICE VEHICLE/NON EMERGENCY                                   1945\n",
       "OTHER LIGHT TRUCKS (10,000LBS (4,536KG) OR LESS)               1798\n",
       "CARGO VAN/LIGHT TRUCK 2 AXLES (OVER 10,000LBS (4,536 KG))      1725\n",
       "OTHER                                                          1474\n",
       "POLICE VEHICLE/EMERGENCY                                       1410\n",
       "MEDIUM/HEAVY TRUCKS 3 AXLES (OVER 10,000LBS (4,536KG))         1361\n",
       "UNKNOWN                                                         939\n",
       "MOTORCYCLE                                                      802\n",
       "STATION WAGON                                                   657\n",
       "TRUCK TRACTOR                                                   469\n",
       "AMBULANCE/EMERGENCY                                             427\n",
       "FIRE VEHICLE/EMERGENCY                                          405\n",
       "OTHER BUS                                                       394\n",
       "FIRE VEHICLE/NON EMERGENCY                                      276\n",
       "RECREATIONAL VEHICLE                                            188\n",
       "AMBULANCE/NON EMERGENCY                                         173\n",
       "SNOWMOBILE                                                      113\n",
       "ALL TERRAIN VEHICLE (ATV)                                       108\n",
       "MOPED                                                            78\n",
       "AUTOCYCLE                                                        39\n",
       "LOW SPEED VEHICLE                                                33\n",
       "CROSS COUNTRY BUS                                                25\n",
       "FARM VEHICLE                                                     20\n",
       "LIMOUSINE                                                        16\n",
       "Name: Vehicle Body Type, dtype: int64"
      ]
     },
     "execution_count": 70,
     "metadata": {},
     "output_type": "execute_result"
    }
   ],
   "source": [
    "df_county['Vehicle Body Type'].value_counts()"
   ]
  },
  {
   "cell_type": "markdown",
   "metadata": {},
   "source": [
    "Let us clean the Vehicle Body Type column so that the categories are more apparent."
   ]
  },
  {
   "cell_type": "code",
   "execution_count": 86,
   "metadata": {},
   "outputs": [
    {
     "data": {
      "text/plain": [
       "PASSENGER CAR        108929\n",
       "SUV                   15174\n",
       "BUS                    6394\n",
       "PICKUP TRUCK           6248\n",
       "VAN                    4574\n",
       "POLICE                 3355\n",
       "LIGHT SEMITRUCKS       1798\n",
       "MEDIUM SEMITRUCKS      1725\n",
       "HEAVY SEMITRUCK        1361\n",
       "FIRST RESPONDER        1281\n",
       "MOTORCYCLE              802\n",
       "TRACTOR                 469\n",
       "RV                      188\n",
       "SNOWMOBILE              113\n",
       "ATV                     108\n",
       "Name: Simple Vehicle Body Type, dtype: int64"
      ]
     },
     "execution_count": 86,
     "metadata": {},
     "output_type": "execute_result"
    }
   ],
   "source": [
    "df_county['Simple Vehicle Body Type'] = df_county['Vehicle Body Type'].replace({'TRANSIT BUS':\"BUS\", \"SCHOOL BUS\": \"BUS\", \"(SPORT) UTILITY VEHICLE\": \"SUV\", \"OTHER LIGHT TRUCKS (10,000LBS (4,536KG) OR LESS)\": \"LIGHT SEMITRUCKS\", \"CARGO VAN/LIGHT TRUCK 2 AXLES (OVER 10,000LBS (4,536 KG))\": \"MEDIUM SEMITRUCKS\", \"POLICE VEHICLE/NON EMERGENCY\": \"POLICE\", \"POLICE VEHICLE/EMERGENCY\":\"POLICE\", \"MEDIUM/HEAVY TRUCKS 3 AXLES (OVER 10,000LBS (4,536KG))\":\"HEAVY SEMITRUCK\", \"STATION WAGON\":\"SUV\", \"TRUCK TRACTOR\":\"TRACTOR\", \"AMBULANCE/EMERGENCY\":\"FIRST RESPONDER\", \"FIRE VEHICLE/EMERGENCY\":\"FIRST RESPONDER\",\"OTHER BUS\":\"BUS\",\"FIRE VEHICLE/NON EMERGENCY\":\"FIRST RESPONDER\", \"RECREATIONAL VEHICLE\":\"RV\", \"AMBULANCE/NON EMERGENCY\":'FIRST RESPONDER', 'ALL TERRAIN VEHICLE (ATV)':\"ATV\"})\n",
    "# df_county['Simple Vehicle Body Type'] = df_county['Simple Vehicle Body Type'].drop(axis='columns', ['MOPED', 'AUTOCYCLE', 'LOW SPEED VEHICLE', 'CROSS COUNTRY BUS', 'FARM VEHICLE', 'LIMOUSINE'])\n",
    "df_county = df_county[ df_county['Simple Vehicle Body Type'] != 'MOPED']\n",
    "df_county = df_county[ df_county['Simple Vehicle Body Type'] != 'AUTOCYCLE']\n",
    "df_county = df_county[ df_county['Simple Vehicle Body Type'] != 'LOW SPEED VEHICLE']\n",
    "df_county = df_county[ df_county['Simple Vehicle Body Type'] != 'CROSS COUNTRY BUS']\n",
    "df_county = df_county[ df_county['Simple Vehicle Body Type'] != 'FARM VEHICLE']\n",
    "df_county = df_county[ df_county['Simple Vehicle Body Type'] != 'LIMOUSINE']\n",
    "df_county = df_county[ df_county['Simple Vehicle Body Type'] != 'UNKNOWN']\n",
    "df_county = df_county[ df_county['Simple Vehicle Body Type'] != 'OTHER']\n",
    "\n",
    "\n",
    "df_county['Simple Vehicle Body Type'].value_counts()"
   ]
  },
  {
   "cell_type": "code",
   "execution_count": 92,
   "metadata": {},
   "outputs": [],
   "source": [
    "df_county['Numeric Severity'] = df_county['Injury Severity_x'].replace({'NO APPARENT INJURY': 0, 'POSSIBLE INJURY': 1, 'SUSPECTED MINOR INJURY': 2, 'SUSPECTED SERIOUS INJURY':3, 'FATAL INJURY':4})"
   ]
  },
  {
   "cell_type": "markdown",
   "metadata": {},
   "source": [
    "## Data Visualization"
   ]
  },
  {
   "cell_type": "code",
   "execution_count": 99,
   "metadata": {},
   "outputs": [
    {
     "data": {
      "image/png": "[encoded data removed]",
      "text/plain": [
       "<Figure size 432x288 with 1 Axes>"
      ]
     },
     "metadata": {
      "needs_background": "light"
     },
     "output_type": "display_data"
    }
   ],
   "source": [
    "df_county.groupby('Simple Vehicle Body Type')['Numeric Severity'].mean().sort_values().plot.bar()\n",
    "plt.title('Chance of Injury Dependent on\\n Vehicle Body Type at Time of Collision', size=20)\n",
    "plt.ylabel('% Chance of Injury', size = 15)\n",
    "plt.xlabel(\"Vehicle Body Type\", size = 15);"
   ]
  },
  {
   "cell_type": "code",
   "execution_count": 88,
   "metadata": {},
   "outputs": [
    {
     "data": {
      "text/plain": [
       "(array([ 0,  1,  2,  3,  4,  5,  6,  7,  8,  9, 10, 11, 12, 13, 14]),\n",
       " [Text(0, 0, 'PASSENGER CAR'),\n",
       "  Text(1, 0, 'SUV'),\n",
       "  Text(2, 0, 'BUS'),\n",
       "  Text(3, 0, 'PICKUP TRUCK'),\n",
       "  Text(4, 0, 'VAN'),\n",
       "  Text(5, 0, 'POLICE'),\n",
       "  Text(6, 0, 'LIGHT SEMITRUCKS'),\n",
       "  Text(7, 0, 'MEDIUM SEMITRUCKS'),\n",
       "  Text(8, 0, 'HEAVY SEMITRUCK'),\n",
       "  Text(9, 0, 'FIRST RESPONDER'),\n",
       "  Text(10, 0, 'MOTORCYCLE'),\n",
       "  Text(11, 0, 'TRACTOR'),\n",
       "  Text(12, 0, 'RV'),\n",
       "  Text(13, 0, 'SNOWMOBILE'),\n",
       "  Text(14, 0, 'ATV')])"
      ]
     },
     "execution_count": 88,
     "metadata": {},
     "output_type": "execute_result"
    },
    {
     "data": {
      "image/png": "[encoded data removed]",
      "text/plain": [
       "<Figure size 432x288 with 1 Axes>"
      ]
     },
     "metadata": {
      "needs_background": "light"
     },
     "output_type": "display_data"
    }
   ],
   "source": [
    "x = df_county['Simple Vehicle Body Type'].value_counts().index\n",
    "y = np.log10(df_county['Simple Vehicle Body Type'].value_counts().values)\n",
    "sns.barplot(x,y)\n",
    "plt.xticks(rotation=90)"
   ]
  },
  {
   "cell_type": "code",
   "execution_count": null,
   "metadata": {},
   "outputs": [],
   "source": []
  },
  {
   "cell_type": "code",
   "execution_count": 69,
   "metadata": {},
   "outputs": [
    {
     "data": {
      "image/png": "[encoded data removed]",
      "text/plain": [
       "<Figure size 360x360 with 1 Axes>"
      ]
     },
     "metadata": {
      "needs_background": "light"
     },
     "output_type": "display_data"
    }
   ],
   "source": [
    "sns.catplot(x='Injury Severity_x', kind='count', data=df_county)\n",
    "plt.xticks(rotation=90);"
   ]
  },
  {
   "cell_type": "code",
   "execution_count": 43,
   "metadata": {},
   "outputs": [
    {
     "data": {
      "image/png": "[encoded data removed]",
      "text/plain": [
       "<Figure size 432x288 with 1 Axes>"
      ]
     },
     "metadata": {
      "needs_background": "light"
     },
     "output_type": "display_data"
    }
   ],
   "source": [
    "x = df_county['Weather_x'].value_counts().index\n",
    "y = np.log10(df_county['Weather_x'].value_counts().values)\n",
    "sns.barplot(x,y)\n",
    "plt.xticks(rotation=90);"
   ]
  },
  {
   "cell_type": "code",
   "execution_count": 84,
   "metadata": {},
   "outputs": [
    {
     "data": {
      "image/png": "[encoded data removed]",
      "text/plain": [
       "<Figure size 432x288 with 1 Axes>"
      ]
     },
     "metadata": {
      "needs_background": "light"
     },
     "output_type": "display_data"
    }
   ],
   "source": [
    "# Replace to simple impact locations\n",
    "df_county['First Impact Simple'] = df_county['Vehicle First Impact Location'].replace({'ELEVEN OCLOCK': \"Front\", 'TWELVE OCLOCK': \"Front\", 'ONE OCLOCK': \"Front\", 'TWO OCLOCK': \"Right\", 'THREE OCLOCK': \"Right\", 'FOUR OCLOCK': \"Right\", 'FIVE OCLOCK': \"Back\", 'SIX OCLOCK': \"Back\", 'SEVEN OCLOCK': \"Back\", 'EIGHT OCLOCK': \"Left\", 'NINE OCLOCK': \"Left\", 'TEN OCLOCK': \"Left\", 'ROOF TOP': \"Top\", 'UNDERSIDE': \"Bottom\", 'NON-COLLISION': \"No Collision\",'UNKNOWK': \"Unknown\"})\n",
    "# We will drop these values because they are unusual to compare with collisions \n",
    "df_county.drop(df_county.index[df_county['First Impact Simple'] == 'UNKNOWN'], inplace=True)\n",
    "df_county.drop(df_county.index[df_county['First Impact Simple'] == 'Top'], inplace=True)\n",
    "df_county.drop(df_county.index[df_county['First Impact Simple'] == 'Bottom'], inplace=True)\n",
    "df_county.drop(df_county.index[df_county['First Impact Simple'] == 'No Collision'], inplace = True)\n",
    "# Create cross tab chart \n",
    "movementImpact = pd.crosstab(df_county['Injury Severity_x'], df_county['First Impact Simple'])\n",
    "movementImpact = movementImpact.div(df_county['Injury Severity_x'].value_counts(), axis=0)\n",
    "# reorder from least to most severe\n",
    "movementImpact.iloc[[1,2,3,4,0]].plot.bar(stacked=True)\n",
    "plt.title('Distrtibution of Impact Probability\\n in Relation to the First Impact', size=20)\n",
    "plt.xticks(rotation = 90)\n",
    "plt.ylabel('Probabilities', size=15)\n",
    "current_handles, curr_labels = plt.gca().get_legend_handles_labels()\n",
    "reversed_handles = reversed(current_handles)\n",
    "reverse_labels = reversed(curr_labels)\n",
    "plt.legend(reversed_handles, reverse_labels, bbox_to_anchor=(1.05, 1.0), loc='upper left');"
   ]
  },
  {
   "cell_type": "code",
   "execution_count": null,
   "metadata": {},
   "outputs": [],
   "source": []
  },
  {
   "cell_type": "markdown",
   "metadata": {},
   "source": [
    "## Conclusion"
   ]
  },
  {
   "cell_type": "markdown",
   "metadata": {},
   "source": []
  }
 ],
 "metadata": {
  "kernelspec": {
   "display_name": "Python 3 (ipykernel)",
   "language": "python",
   "name": "python3"
  },
  "language_info": {
   "codemirror_mode": {
    "name": "ipython",
    "version": 3
   },
   "file_extension": ".py",
   "mimetype": "text/x-python",
   "name": "python",
   "nbconvert_exporter": "python",
   "pygments_lexer": "ipython3",
   "version": "3.9.12"
  }
 },
 "nbformat": 4,
 "nbformat_minor": 2
}
