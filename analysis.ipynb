{
 "cells": [
  {
   "cell_type": "markdown",
   "metadata": {},
   "source": [
    "# Montgomery County Collision Analysis"
   ]
  },
  {
   "cell_type": "markdown",
   "metadata": {},
   "source": [
    "## Introduction\n",
    "<br>We will be examining traffic collisions that occurred in Montgomery County, Maryland. Our data set has over fifteen thousand collision reports based on preliminary data. The data set includes columns such as the time of day that the crash occurred, the vehicle's impact locations, and the vehicle's movement at the time of the collision. We will be using this data to see what aspects of a crash lead to lower or higher rates of injury severity. Therefore, we are most interested in the correlation of 'Injury Severity', 'Vehicle Body Type', and 'Vehicle Movement' and others. We will create new columns based on factors that are most apparent to our exploration of the data."
   ]
  },
  {
   "cell_type": "code",
   "execution_count": 1,
   "metadata": {},
   "outputs": [],
   "source": [
    "import sys\n",
    "import numpy as np\n",
    "import pandas as pd\n",
    "import matplotlib.pyplot as plt\n",
    "import seaborn as sns\n",
    "import warnings\n",
    "warnings.filterwarnings('ignore')"
   ]
  },
  {
   "cell_type": "markdown",
   "metadata": {},
   "source": [
    "## Data Exploration"
   ]
  },
  {
   "cell_type": "code",
   "execution_count": 2,
   "metadata": {},
   "outputs": [],
   "source": [
    "df_county = pd.read_csv('./data/Crash_Reporting_-_Drivers_Data.csv')\n",
    "df_state = pd.read_csv('./data/Maryland_Statewide_Vehicle_Crashes.csv')\n",
    "df_nonmotor = pd.read_csv('./data/Crash_Reporting_-_Non-Motorists_Data.csv')"
   ]
  },
  {
   "cell_type": "code",
   "execution_count": 3,
   "metadata": {},
   "outputs": [
    {
     "data": {
      "text/html": [
       "<div>\n",
       "<style scoped>\n",
       "    .dataframe tbody tr th:only-of-type {\n",
       "        vertical-align: middle;\n",
       "    }\n",
       "\n",
       "    .dataframe tbody tr th {\n",
       "        vertical-align: top;\n",
       "    }\n",
       "\n",
       "    .dataframe thead th {\n",
       "        text-align: right;\n",
       "    }\n",
       "</style>\n",
       "<table border=\"1\" class=\"dataframe\">\n",
       "  <thead>\n",
       "    <tr style=\"text-align: right;\">\n",
       "      <th></th>\n",
       "      <th>Report Number</th>\n",
       "      <th>Local Case Number</th>\n",
       "      <th>Agency Name</th>\n",
       "      <th>ACRS Report Type</th>\n",
       "      <th>Crash Date/Time</th>\n",
       "      <th>Route Type</th>\n",
       "      <th>Road Name</th>\n",
       "      <th>Cross-Street Type</th>\n",
       "      <th>Cross-Street Name</th>\n",
       "      <th>Off-Road Description</th>\n",
       "      <th>...</th>\n",
       "      <th>Speed Limit</th>\n",
       "      <th>Driverless Vehicle</th>\n",
       "      <th>Parked Vehicle</th>\n",
       "      <th>Vehicle Year</th>\n",
       "      <th>Vehicle Make</th>\n",
       "      <th>Vehicle Model</th>\n",
       "      <th>Equipment Problems</th>\n",
       "      <th>Latitude</th>\n",
       "      <th>Longitude</th>\n",
       "      <th>Location</th>\n",
       "    </tr>\n",
       "  </thead>\n",
       "  <tbody>\n",
       "    <tr>\n",
       "      <th>0</th>\n",
       "      <td>DD5620004G</td>\n",
       "      <td>190046109</td>\n",
       "      <td>Rockville Police Departme</td>\n",
       "      <td>Property Damage Crash</td>\n",
       "      <td>09/26/2019 07:20:00 AM</td>\n",
       "      <td>NaN</td>\n",
       "      <td>NaN</td>\n",
       "      <td>NaN</td>\n",
       "      <td>NaN</td>\n",
       "      <td>PARKING LOT</td>\n",
       "      <td>...</td>\n",
       "      <td>15</td>\n",
       "      <td>No</td>\n",
       "      <td>No</td>\n",
       "      <td>2017</td>\n",
       "      <td>THOMAS</td>\n",
       "      <td>BUS</td>\n",
       "      <td>NO MISUSE</td>\n",
       "      <td>39.103518</td>\n",
       "      <td>-77.157669</td>\n",
       "      <td>(39.10351817, -77.15766933)</td>\n",
       "    </tr>\n",
       "    <tr>\n",
       "      <th>1</th>\n",
       "      <td>MCP29620057</td>\n",
       "      <td>200023865</td>\n",
       "      <td>Montgomery County Police</td>\n",
       "      <td>Property Damage Crash</td>\n",
       "      <td>06/18/2020 02:00:00 AM</td>\n",
       "      <td>County</td>\n",
       "      <td>DAIRYMAID DR</td>\n",
       "      <td>County</td>\n",
       "      <td>METZ DR</td>\n",
       "      <td>NaN</td>\n",
       "      <td>...</td>\n",
       "      <td>35</td>\n",
       "      <td>No</td>\n",
       "      <td>No</td>\n",
       "      <td>2020</td>\n",
       "      <td>UNK</td>\n",
       "      <td>UNK</td>\n",
       "      <td>UNKNOWN</td>\n",
       "      <td>39.154847</td>\n",
       "      <td>-77.271245</td>\n",
       "      <td>(39.15484667, -77.271245)</td>\n",
       "    </tr>\n",
       "    <tr>\n",
       "      <th>2</th>\n",
       "      <td>MCP2651004P</td>\n",
       "      <td>210035267</td>\n",
       "      <td>Montgomery County Police</td>\n",
       "      <td>Property Damage Crash</td>\n",
       "      <td>09/08/2021 12:30:00 PM</td>\n",
       "      <td>NaN</td>\n",
       "      <td>NaN</td>\n",
       "      <td>NaN</td>\n",
       "      <td>NaN</td>\n",
       "      <td>PARKING LOT OF 10109 COLESVILLE RD</td>\n",
       "      <td>...</td>\n",
       "      <td>0</td>\n",
       "      <td>No</td>\n",
       "      <td>No</td>\n",
       "      <td>2010</td>\n",
       "      <td>TOYOTA</td>\n",
       "      <td>SUV</td>\n",
       "      <td>UNKNOWN</td>\n",
       "      <td>39.020303</td>\n",
       "      <td>-77.011436</td>\n",
       "      <td>(39.02030267, -77.01143583)</td>\n",
       "    </tr>\n",
       "    <tr>\n",
       "      <th>3</th>\n",
       "      <td>MCP3050004K</td>\n",
       "      <td>200016465</td>\n",
       "      <td>Montgomery County Police</td>\n",
       "      <td>Property Damage Crash</td>\n",
       "      <td>04/19/2020 03:39:00 PM</td>\n",
       "      <td>County</td>\n",
       "      <td>RUSSETT RD</td>\n",
       "      <td>County</td>\n",
       "      <td>ARCTIC AVE</td>\n",
       "      <td>NaN</td>\n",
       "      <td>...</td>\n",
       "      <td>25</td>\n",
       "      <td>No</td>\n",
       "      <td>No</td>\n",
       "      <td>2004</td>\n",
       "      <td>DODGE</td>\n",
       "      <td>GRAND CARAVAN</td>\n",
       "      <td>NO MISUSE</td>\n",
       "      <td>39.080062</td>\n",
       "      <td>-77.097845</td>\n",
       "      <td>(39.08006167, -77.097845)</td>\n",
       "    </tr>\n",
       "    <tr>\n",
       "      <th>4</th>\n",
       "      <td>MCP2641001J</td>\n",
       "      <td>200016526</td>\n",
       "      <td>Montgomery County Police</td>\n",
       "      <td>Injury Crash</td>\n",
       "      <td>04/20/2020 09:15:00 AM</td>\n",
       "      <td>County</td>\n",
       "      <td>ARCHDALE RD</td>\n",
       "      <td>County</td>\n",
       "      <td>GUNNERS BRANCH RD</td>\n",
       "      <td>NaN</td>\n",
       "      <td>...</td>\n",
       "      <td>25</td>\n",
       "      <td>No</td>\n",
       "      <td>No</td>\n",
       "      <td>2006</td>\n",
       "      <td>HONDA</td>\n",
       "      <td>CR-V</td>\n",
       "      <td>UNKNOWN</td>\n",
       "      <td>39.175230</td>\n",
       "      <td>-77.241090</td>\n",
       "      <td>(39.17523, -77.24109)</td>\n",
       "    </tr>\n",
       "  </tbody>\n",
       "</table>\n",
       "<p>5 rows × 43 columns</p>\n",
       "</div>"
      ],
      "text/plain": [
       "  Report Number Local Case Number                Agency Name  \\\n",
       "0    DD5620004G         190046109  Rockville Police Departme   \n",
       "1   MCP29620057         200023865   Montgomery County Police   \n",
       "2   MCP2651004P         210035267   Montgomery County Police   \n",
       "3   MCP3050004K         200016465   Montgomery County Police   \n",
       "4   MCP2641001J         200016526   Montgomery County Police   \n",
       "\n",
       "        ACRS Report Type         Crash Date/Time Route Type     Road Name  \\\n",
       "0  Property Damage Crash  09/26/2019 07:20:00 AM        NaN           NaN   \n",
       "1  Property Damage Crash  06/18/2020 02:00:00 AM     County  DAIRYMAID DR   \n",
       "2  Property Damage Crash  09/08/2021 12:30:00 PM        NaN           NaN   \n",
       "3  Property Damage Crash  04/19/2020 03:39:00 PM     County    RUSSETT RD   \n",
       "4           Injury Crash  04/20/2020 09:15:00 AM     County   ARCHDALE RD   \n",
       "\n",
       "  Cross-Street Type  Cross-Street Name                Off-Road Description  \\\n",
       "0               NaN                NaN                         PARKING LOT   \n",
       "1            County            METZ DR                                 NaN   \n",
       "2               NaN                NaN  PARKING LOT OF 10109 COLESVILLE RD   \n",
       "3            County         ARCTIC AVE                                 NaN   \n",
       "4            County  GUNNERS BRANCH RD                                 NaN   \n",
       "\n",
       "   ... Speed Limit Driverless Vehicle Parked Vehicle Vehicle Year  \\\n",
       "0  ...          15                 No             No         2017   \n",
       "1  ...          35                 No             No         2020   \n",
       "2  ...           0                 No             No         2010   \n",
       "3  ...          25                 No             No         2004   \n",
       "4  ...          25                 No             No         2006   \n",
       "\n",
       "  Vehicle Make  Vehicle Model Equipment Problems   Latitude  Longitude  \\\n",
       "0       THOMAS            BUS          NO MISUSE  39.103518 -77.157669   \n",
       "1          UNK            UNK            UNKNOWN  39.154847 -77.271245   \n",
       "2       TOYOTA            SUV            UNKNOWN  39.020303 -77.011436   \n",
       "3        DODGE  GRAND CARAVAN          NO MISUSE  39.080062 -77.097845   \n",
       "4        HONDA           CR-V            UNKNOWN  39.175230 -77.241090   \n",
       "\n",
       "                      Location  \n",
       "0  (39.10351817, -77.15766933)  \n",
       "1    (39.15484667, -77.271245)  \n",
       "2  (39.02030267, -77.01143583)  \n",
       "3    (39.08006167, -77.097845)  \n",
       "4        (39.17523, -77.24109)  \n",
       "\n",
       "[5 rows x 43 columns]"
      ]
     },
     "execution_count": 3,
     "metadata": {},
     "output_type": "execute_result"
    }
   ],
   "source": [
    "df_county.head()"
   ]
  },
  {
   "cell_type": "code",
   "execution_count": 4,
   "metadata": {},
   "outputs": [
    {
     "data": {
      "text/plain": [
       "CLEAR                       106202\n",
       "RAINING                      19026\n",
       "CLOUDY                       16044\n",
       "SNOW                          1432\n",
       "UNKNOWN                        627\n",
       "FOGGY                          623\n",
       "WINTRY MIX                     388\n",
       "OTHER                          346\n",
       "SLEET                          213\n",
       "SEVERE WINDS                   153\n",
       "BLOWING SNOW                   115\n",
       "BLOWING SAND, SOIL, DIRT        15\n",
       "Name: Weather, dtype: int64"
      ]
     },
     "execution_count": 4,
     "metadata": {},
     "output_type": "execute_result"
    }
   ],
   "source": [
    "df_county['Weather'].value_counts()"
   ]
  },
  {
   "cell_type": "code",
   "execution_count": 5,
   "metadata": {},
   "outputs": [
    {
     "name": "stdout",
     "output_type": "stream",
     "text": [
      "<class 'pandas.core.frame.DataFrame'>\n",
      "Int64Index: 157554 entries, 0 to 157553\n",
      "Data columns (total 74 columns):\n",
      " #   Column                            Non-Null Count   Dtype  \n",
      "---  ------                            --------------   -----  \n",
      " 0   Report Number                     157554 non-null  object \n",
      " 1   Local Case Number_x               157554 non-null  object \n",
      " 2   Agency Name_x                     157554 non-null  object \n",
      " 3   ACRS Report Type_x                157554 non-null  object \n",
      " 4   Crash Date/Time_x                 157554 non-null  object \n",
      " 5   Route Type_x                      142110 non-null  object \n",
      " 6   Road Name_x                       142960 non-null  object \n",
      " 7   Cross-Street Type_x               142086 non-null  object \n",
      " 8   Cross-Street Name_x               142954 non-null  object \n",
      " 9   Off-Road Description_x            14592 non-null   object \n",
      " 10  Municipality_x                    17502 non-null   object \n",
      " 11  Related Non-Motorist_x            4958 non-null    object \n",
      " 12  Collision Type_x                  157028 non-null  object \n",
      " 13  Weather_x                         145184 non-null  object \n",
      " 14  Surface Condition_x               139068 non-null  object \n",
      " 15  Light_x                           156248 non-null  object \n",
      " 16  Traffic Control_x                 133850 non-null  object \n",
      " 17  Driver Substance Abuse_x          128915 non-null  object \n",
      " 18  Non-Motorist Substance Abuse_x    3929 non-null    object \n",
      " 19  Person ID_x                       157554 non-null  object \n",
      " 20  Driver At Fault                   157554 non-null  object \n",
      " 21  Injury Severity_x                 157554 non-null  object \n",
      " 22  Circumstance                      29147 non-null   object \n",
      " 23  Driver Distracted By              157554 non-null  object \n",
      " 24  Drivers License State             148809 non-null  object \n",
      " 25  Vehicle ID                        157554 non-null  object \n",
      " 26  Vehicle Damage Extent             157277 non-null  object \n",
      " 27  Vehicle First Impact Location     157398 non-null  object \n",
      " 28  Vehicle Second Impact Location    157298 non-null  object \n",
      " 29  Vehicle Body Type                 155143 non-null  object \n",
      " 30  Vehicle Movement                  157222 non-null  object \n",
      " 31  Vehicle Continuing Dir            155105 non-null  object \n",
      " 32  Vehicle Going Dir                 155105 non-null  object \n",
      " 33  Speed Limit                       157554 non-null  int64  \n",
      " 34  Driverless Vehicle                157554 non-null  object \n",
      " 35  Parked Vehicle                    157554 non-null  object \n",
      " 36  Vehicle Year                      157554 non-null  int64  \n",
      " 37  Vehicle Make                      157532 non-null  object \n",
      " 38  Vehicle Model                     157494 non-null  object \n",
      " 39  Equipment Problems                125576 non-null  object \n",
      " 40  Latitude_x                        157554 non-null  float64\n",
      " 41  Longitude_x                       157554 non-null  float64\n",
      " 42  Location_x                        157554 non-null  object \n",
      " 43  Local Case Number_y               0 non-null       float64\n",
      " 44  Agency Name_y                     0 non-null       object \n",
      " 45  ACRS Report Type_y                0 non-null       object \n",
      " 46  Crash Date/Time_y                 0 non-null       object \n",
      " 47  Route Type_y                      0 non-null       object \n",
      " 48  Road Name_y                       0 non-null       object \n",
      " 49  Cross-Street Type_y               0 non-null       object \n",
      " 50  Cross-Street Name_y               0 non-null       object \n",
      " 51  Off-Road Description_y            0 non-null       object \n",
      " 52  Municipality_y                    0 non-null       object \n",
      " 53  Related Non-Motorist_y            0 non-null       object \n",
      " 54  Collision Type_y                  0 non-null       object \n",
      " 55  Weather_y                         0 non-null       object \n",
      " 56  Surface Condition_y               0 non-null       object \n",
      " 57  Light_y                           0 non-null       object \n",
      " 58  Traffic Control_y                 0 non-null       object \n",
      " 59  Driver Substance Abuse_y          0 non-null       object \n",
      " 60  Non-Motorist Substance Abuse_y    0 non-null       object \n",
      " 61  Person ID_y                       0 non-null       object \n",
      " 62  Pedestrian Type                   0 non-null       object \n",
      " 63  Pedestrian Movement               0 non-null       object \n",
      " 64  Pedestrian Actions                0 non-null       object \n",
      " 65  Pedestrian Location               0 non-null       object \n",
      " 66  Pedestrian Obeyed Traffic Signal  0 non-null       object \n",
      " 67  Pedestrian Visibility             0 non-null       object \n",
      " 68  At Fault                          0 non-null       object \n",
      " 69  Injury Severity_y                 0 non-null       object \n",
      " 70  Safety Equipment                  0 non-null       object \n",
      " 71  Latitude_y                        0 non-null       float64\n",
      " 72  Longitude_y                       0 non-null       float64\n",
      " 73  Location_y                        0 non-null       object \n",
      "dtypes: float64(5), int64(2), object(67)\n",
      "memory usage: 90.2+ MB\n"
     ]
    }
   ],
   "source": [
    "# Merge the two dataframes with the values that do not already exist in the county data\n",
    "df_county = pd.merge(left=df_county, right=df_nonmotor[~df_nonmotor['Report Number'].isin(df_county['Report Number'])], on='Report Number', how='left')\n",
    "df_county.info()"
   ]
  },
  {
   "cell_type": "code",
   "execution_count": 6,
   "metadata": {},
   "outputs": [
    {
     "data": {
      "text/plain": [
       "CLEAR           106202\n",
       "RAINING          19026\n",
       "CLOUDY           16044\n",
       "OTHER             1491\n",
       "SNOW              1432\n",
       "FOGGY              623\n",
       "SLEET              213\n",
       "SEVERE WINDS       153\n",
       "Name: Weather_x, dtype: int64"
      ]
     },
     "execution_count": 6,
     "metadata": {},
     "output_type": "execute_result"
    }
   ],
   "source": [
    "df_county['Weather_x'] = df_county['Weather_x'].replace(\n",
    "    {\"BLOWING SAND, SOIL, DIRT\": \"OTHER\", \n",
    "     \"WINTRY MIX\": \"OTHER\" , \"BLOWING SNOW\": \"OTHER\", \"UNKNOWN\": \"OTHER\"})\n",
    "df_county['Weather_x'].value_counts()"
   ]
  },
  {
   "cell_type": "code",
   "execution_count": 27,
   "metadata": {},
   "outputs": [
    {
     "data": {
      "text/plain": [
       "Text(0.5, 1.0, '# of Reported Accidents per Weather Type')"
      ]
     },
     "execution_count": 27,
     "metadata": {},
     "output_type": "execute_result"
    },
    {
     "data": {
      "image/png": "[encoded data removed]",
      "text/plain": [
       "<Figure size 432x288 with 1 Axes>"
      ]
     },
     "metadata": {
      "needs_background": "light"
     },
     "output_type": "display_data"
    }
   ],
   "source": [
    "df_county_weather = df_county[df_county['Weather_x'].notna()]\n",
    "\n",
    "weatherGroups = df_county_weather.groupby(\"Weather_x\")\n",
    "\n",
    "weather_Reports = weatherGroups['Report Number'].count()\n",
    "\n",
    "\n",
    "\n",
    "chart1 = weather_Reports.plot(kind=\"bar\", title=\"Accidents by Weather Type\")\n",
    "chart1.set_xlabel(\"Weather Type\")\n",
    "chart1.set_ylabel(\"# of Accidents\")\n",
    "chart1.set_title(\"# of Reported Accidents per Weather Type\")"
   ]
  },
  {
   "cell_type": "code",
   "execution_count": 15,
   "metadata": {},
   "outputs": [
    {
     "data": {
      "text/plain": [
       "Text(0, 0.5, '# of Reports Log 10')"
      ]
     },
     "execution_count": 15,
     "metadata": {},
     "output_type": "execute_result"
    },
    {
     "data": {
      "image/png": "[encoded data removed]",
      "text/plain": [
       "<Figure size 432x288 with 1 Axes>"
      ]
     },
     "metadata": {
      "needs_background": "light"
     },
     "output_type": "display_data"
    }
   ],
   "source": [
    "#Log Version of graph1\n",
    "x1 = df_county['Weather_x'].value_counts().index\n",
    "y1 = np.log10(df_county['Weather_x'].value_counts().values)\n",
    "chart = sns.barplot(x=x1,y=y1)\n",
    "plt.xticks(rotation=90)\n",
    "plt.xlabel(\"Weather Type\")\n",
    "plt.ylabel(\"# of Reports Log 10\")\n",
    "plt.title(\"# of Reported Accidents per Weather Type\")"
   ]
  },
  {
   "cell_type": "code",
   "execution_count": 8,
   "metadata": {},
   "outputs": [
    {
     "data": {
      "text/html": [
       "<div>\n",
       "<style scoped>\n",
       "    .dataframe tbody tr th:only-of-type {\n",
       "        vertical-align: middle;\n",
       "    }\n",
       "\n",
       "    .dataframe tbody tr th {\n",
       "        vertical-align: top;\n",
       "    }\n",
       "\n",
       "    .dataframe thead th {\n",
       "        text-align: right;\n",
       "    }\n",
       "</style>\n",
       "<table border=\"1\" class=\"dataframe\">\n",
       "  <thead>\n",
       "    <tr style=\"text-align: right;\">\n",
       "      <th></th>\n",
       "      <th>YEAR</th>\n",
       "      <th>QUARTER</th>\n",
       "      <th>LIGHT_DESC</th>\n",
       "      <th>LIGHT_CODE</th>\n",
       "      <th>COUNTY_DESC</th>\n",
       "      <th>COUNTY_NO</th>\n",
       "      <th>MUNI_DESC</th>\n",
       "      <th>MUNI_CODE</th>\n",
       "      <th>JUNCTION_DESC</th>\n",
       "      <th>JUNCTION_CODE</th>\n",
       "      <th>...</th>\n",
       "      <th>FEET_MILES_FLAG_DESC</th>\n",
       "      <th>FEET_MILES_FLAG</th>\n",
       "      <th>DISTANCE_DIR_FLAG</th>\n",
       "      <th>REFERENCE_NO</th>\n",
       "      <th>REFERENCE_TYPE_CODE</th>\n",
       "      <th>REFERENCE_SUFFIX</th>\n",
       "      <th>REFERENCE_ROAD_NAME</th>\n",
       "      <th>LATITUDE</th>\n",
       "      <th>LONGITUDE</th>\n",
       "      <th>LOCATION</th>\n",
       "    </tr>\n",
       "  </thead>\n",
       "  <tbody>\n",
       "    <tr>\n",
       "      <th>0</th>\n",
       "      <td>2020</td>\n",
       "      <td>Q2</td>\n",
       "      <td>Daylight</td>\n",
       "      <td>1.00</td>\n",
       "      <td>Baltimore</td>\n",
       "      <td>3.0</td>\n",
       "      <td>NaN</td>\n",
       "      <td>NaN</td>\n",
       "      <td>NaN</td>\n",
       "      <td>NaN</td>\n",
       "      <td>...</td>\n",
       "      <td>NaN</td>\n",
       "      <td>NaN</td>\n",
       "      <td>NaN</td>\n",
       "      <td>NaN</td>\n",
       "      <td>NaN</td>\n",
       "      <td>NaN</td>\n",
       "      <td>NaN</td>\n",
       "      <td>39.277263</td>\n",
       "      <td>-76.503693</td>\n",
       "      <td>POINT (-76.5036932 39.27726285)</td>\n",
       "    </tr>\n",
       "    <tr>\n",
       "      <th>1</th>\n",
       "      <td>2022</td>\n",
       "      <td>Q2</td>\n",
       "      <td>Dark Lights On</td>\n",
       "      <td>3.00</td>\n",
       "      <td>Montgomery</td>\n",
       "      <td>15.0</td>\n",
       "      <td>NaN</td>\n",
       "      <td>NaN</td>\n",
       "      <td>NaN</td>\n",
       "      <td>NaN</td>\n",
       "      <td>...</td>\n",
       "      <td>NaN</td>\n",
       "      <td>NaN</td>\n",
       "      <td>NaN</td>\n",
       "      <td>NaN</td>\n",
       "      <td>NaN</td>\n",
       "      <td>NaN</td>\n",
       "      <td>NaN</td>\n",
       "      <td>38.992209</td>\n",
       "      <td>-77.097021</td>\n",
       "      <td>POINT (-77.097020666667 38.9922095)</td>\n",
       "    </tr>\n",
       "    <tr>\n",
       "      <th>2</th>\n",
       "      <td>2020</td>\n",
       "      <td>Q4</td>\n",
       "      <td>NaN</td>\n",
       "      <td>6.02</td>\n",
       "      <td>Baltimore</td>\n",
       "      <td>3.0</td>\n",
       "      <td>NaN</td>\n",
       "      <td>NaN</td>\n",
       "      <td>NaN</td>\n",
       "      <td>NaN</td>\n",
       "      <td>...</td>\n",
       "      <td>NaN</td>\n",
       "      <td>NaN</td>\n",
       "      <td>NaN</td>\n",
       "      <td>NaN</td>\n",
       "      <td>NaN</td>\n",
       "      <td>NaN</td>\n",
       "      <td>NaN</td>\n",
       "      <td>39.323620</td>\n",
       "      <td>-76.503080</td>\n",
       "      <td>POINT (-76.503080116667 39.323620083333)</td>\n",
       "    </tr>\n",
       "    <tr>\n",
       "      <th>3</th>\n",
       "      <td>2022</td>\n",
       "      <td>Q1</td>\n",
       "      <td>Daylight</td>\n",
       "      <td>1.00</td>\n",
       "      <td>Baltimore</td>\n",
       "      <td>3.0</td>\n",
       "      <td>NaN</td>\n",
       "      <td>NaN</td>\n",
       "      <td>NaN</td>\n",
       "      <td>NaN</td>\n",
       "      <td>...</td>\n",
       "      <td>NaN</td>\n",
       "      <td>NaN</td>\n",
       "      <td>NaN</td>\n",
       "      <td>NaN</td>\n",
       "      <td>NaN</td>\n",
       "      <td>NaN</td>\n",
       "      <td>NaN</td>\n",
       "      <td>39.411213</td>\n",
       "      <td>-76.628028</td>\n",
       "      <td>POINT (-76.628028425147 39.411213105087)</td>\n",
       "    </tr>\n",
       "    <tr>\n",
       "      <th>4</th>\n",
       "      <td>2022</td>\n",
       "      <td>Q2</td>\n",
       "      <td>Dark Lights On</td>\n",
       "      <td>3.00</td>\n",
       "      <td>Queen Anne's</td>\n",
       "      <td>17.0</td>\n",
       "      <td>NaN</td>\n",
       "      <td>NaN</td>\n",
       "      <td>NaN</td>\n",
       "      <td>NaN</td>\n",
       "      <td>...</td>\n",
       "      <td>NaN</td>\n",
       "      <td>NaN</td>\n",
       "      <td>NaN</td>\n",
       "      <td>NaN</td>\n",
       "      <td>NaN</td>\n",
       "      <td>NaN</td>\n",
       "      <td>NaN</td>\n",
       "      <td>38.974880</td>\n",
       "      <td>-76.281090</td>\n",
       "      <td>POINT (-76.28109 38.97488)</td>\n",
       "    </tr>\n",
       "  </tbody>\n",
       "</table>\n",
       "<p>5 rows × 55 columns</p>\n",
       "</div>"
      ],
      "text/plain": [
       "   YEAR QUARTER      LIGHT_DESC  LIGHT_CODE   COUNTY_DESC  COUNTY_NO  \\\n",
       "0  2020      Q2        Daylight        1.00     Baltimore        3.0   \n",
       "1  2022      Q2  Dark Lights On        3.00    Montgomery       15.0   \n",
       "2  2020      Q4             NaN        6.02     Baltimore        3.0   \n",
       "3  2022      Q1        Daylight        1.00     Baltimore        3.0   \n",
       "4  2022      Q2  Dark Lights On        3.00  Queen Anne's       17.0   \n",
       "\n",
       "   MUNI_DESC  MUNI_CODE JUNCTION_DESC  JUNCTION_CODE  ...  \\\n",
       "0        NaN        NaN           NaN            NaN  ...   \n",
       "1        NaN        NaN           NaN            NaN  ...   \n",
       "2        NaN        NaN           NaN            NaN  ...   \n",
       "3        NaN        NaN           NaN            NaN  ...   \n",
       "4        NaN        NaN           NaN            NaN  ...   \n",
       "\n",
       "  FEET_MILES_FLAG_DESC  FEET_MILES_FLAG DISTANCE_DIR_FLAG  REFERENCE_NO  \\\n",
       "0                  NaN              NaN               NaN           NaN   \n",
       "1                  NaN              NaN               NaN           NaN   \n",
       "2                  NaN              NaN               NaN           NaN   \n",
       "3                  NaN              NaN               NaN           NaN   \n",
       "4                  NaN              NaN               NaN           NaN   \n",
       "\n",
       "   REFERENCE_TYPE_CODE REFERENCE_SUFFIX  REFERENCE_ROAD_NAME   LATITUDE  \\\n",
       "0                  NaN              NaN                  NaN  39.277263   \n",
       "1                  NaN              NaN                  NaN  38.992209   \n",
       "2                  NaN              NaN                  NaN  39.323620   \n",
       "3                  NaN              NaN                  NaN  39.411213   \n",
       "4                  NaN              NaN                  NaN  38.974880   \n",
       "\n",
       "   LONGITUDE                                  LOCATION  \n",
       "0 -76.503693           POINT (-76.5036932 39.27726285)  \n",
       "1 -77.097021       POINT (-77.097020666667 38.9922095)  \n",
       "2 -76.503080  POINT (-76.503080116667 39.323620083333)  \n",
       "3 -76.628028  POINT (-76.628028425147 39.411213105087)  \n",
       "4 -76.281090                POINT (-76.28109 38.97488)  \n",
       "\n",
       "[5 rows x 55 columns]"
      ]
     },
     "execution_count": 8,
     "metadata": {},
     "output_type": "execute_result"
    }
   ],
   "source": [
    "df_state.head()"
   ]
  },
  {
   "cell_type": "code",
   "execution_count": 9,
   "metadata": {},
   "outputs": [
    {
     "name": "stdout",
     "output_type": "stream",
     "text": [
      "<class 'pandas.core.frame.DataFrame'>\n",
      "RangeIndex: 878343 entries, 0 to 878342\n",
      "Data columns (total 55 columns):\n",
      " #   Column                 Non-Null Count   Dtype  \n",
      "---  ------                 --------------   -----  \n",
      " 0   YEAR                   878343 non-null  int64  \n",
      " 1   QUARTER                878343 non-null  object \n",
      " 2   LIGHT_DESC             841025 non-null  object \n",
      " 3   LIGHT_CODE             878343 non-null  float64\n",
      " 4   COUNTY_DESC            878329 non-null  object \n",
      " 5   COUNTY_NO              878329 non-null  float64\n",
      " 6   MUNI_DESC              0 non-null       float64\n",
      " 7   MUNI_CODE              659957 non-null  float64\n",
      " 8   JUNCTION_DESC          760119 non-null  object \n",
      " 9   JUNCTION_CODE          791512 non-null  float64\n",
      " 10  COLLISION_TYPE_DESC    878343 non-null  object \n",
      " 11  COLLISION_TYPE_CODE    878343 non-null  int64  \n",
      " 12  SURF_COND_DESC         789107 non-null  object \n",
      " 13  SURF_COND_CODE         791512 non-null  float64\n",
      " 14  LANE_CODE              668083 non-null  float64\n",
      " 15  RD_COND_DESC           791512 non-null  object \n",
      " 16  RD_COND_CODE           791512 non-null  float64\n",
      " 17  RD_DIV_DESC            786857 non-null  object \n",
      " 18  RD_DIV_CODE            791512 non-null  float64\n",
      " 19  FIX_OBJ_DESC           831232 non-null  object \n",
      " 20  FIX_OBJ_CODE           878343 non-null  float64\n",
      " 21  REPORT_NO              878343 non-null  object \n",
      " 22  REPORT_TYPE            767610 non-null  object \n",
      " 23  WEATHER_DESC           450477 non-null  object \n",
      " 24  WEATHER_CODE           878343 non-null  float64\n",
      " 25  ACC_DATE               878343 non-null  int64  \n",
      " 26  ACC_TIME               878343 non-null  object \n",
      " 27  LOC_CODE               401188 non-null  object \n",
      " 28  SIGNAL_FLAG_DESC       878343 non-null  object \n",
      " 29  SIGNAL_FLAG            878343 non-null  object \n",
      " 30  C_M_ZONE_FLAG          878343 non-null  object \n",
      " 31  AGENCY_CODE            878343 non-null  object \n",
      " 32  AREA_CODE              878343 non-null  object \n",
      " 33  HARM_EVENT_DESC1       282884 non-null  object \n",
      " 34  HARM_EVENT_CODE1       878343 non-null  float64\n",
      " 35  HARM_EVENT_DESC2       878343 non-null  object \n",
      " 36  HARM_EVENT_CODE2       878343 non-null  float64\n",
      " 37  RTE_NO                 702722 non-null  float64\n",
      " 38  ROUTE_TYPE_CODE        704483 non-null  object \n",
      " 39  RTE_SUFFIX             18031 non-null   object \n",
      " 40  LOG_MILE               788015 non-null  float64\n",
      " 41  LOGMILE_DIR_FLAG_DESC  707681 non-null  object \n",
      " 42  LOGMILE_DIR_FLAG       707699 non-null  object \n",
      " 43  MAINROAD_NAME          791503 non-null  object \n",
      " 44  DISTANCE               772976 non-null  float64\n",
      " 45  FEET_MILES_FLAG_DESC   299396 non-null  object \n",
      " 46  FEET_MILES_FLAG        791511 non-null  object \n",
      " 47  DISTANCE_DIR_FLAG      788134 non-null  object \n",
      " 48  REFERENCE_NO           695509 non-null  float64\n",
      " 49  REFERENCE_TYPE_CODE    704721 non-null  object \n",
      " 50  REFERENCE_SUFFIX       19077 non-null   object \n",
      " 51  REFERENCE_ROAD_NAME    790703 non-null  object \n",
      " 52  LATITUDE               878343 non-null  float64\n",
      " 53  LONGITUDE              878343 non-null  float64\n",
      " 54  LOCATION               878343 non-null  object \n",
      "dtypes: float64(19), int64(3), object(33)\n",
      "memory usage: 368.6+ MB\n"
     ]
    }
   ],
   "source": [
    "df_state.info()"
   ]
  },
  {
   "cell_type": "code",
   "execution_count": 10,
   "metadata": {},
   "outputs": [
    {
     "data": {
      "text/plain": [
       "array(['Not Applicable', nan, 'Raining', 'Other', 'Clear', 'Cloudy',\n",
       "       'Unknown', 'Wintry Mix', 'Foggy', 'Severe Winds', 'Snow',\n",
       "       'Blowing Snow', 'Blowing Sand, Soil, Dirt', 'Sleet'], dtype=object)"
      ]
     },
     "execution_count": 10,
     "metadata": {},
     "output_type": "execute_result"
    }
   ],
   "source": [
    "df_state[\"WEATHER_DESC\"].unique()"
   ]
  },
  {
   "cell_type": "code",
   "execution_count": 11,
   "metadata": {},
   "outputs": [
    {
     "data": {
      "text/plain": [
       "Clear                       197604\n",
       "Raining                     111589\n",
       "Not Applicable               85294\n",
       "Cloudy                       28823\n",
       "Unknown                       8343\n",
       "Foggy                         4847\n",
       "Snow                          4661\n",
       "Wintry Mix                    3740\n",
       "Other                         2254\n",
       "Severe Winds                  1348\n",
       "Blowing Snow                   994\n",
       "Sleet                          941\n",
       "Blowing Sand, Soil, Dirt        39\n",
       "Name: WEATHER_DESC, dtype: int64"
      ]
     },
     "execution_count": 11,
     "metadata": {},
     "output_type": "execute_result"
    }
   ],
   "source": [
    "df_state[\"WEATHER_DESC\"].value_counts()"
   ]
  },
  {
   "cell_type": "code",
   "execution_count": 12,
   "metadata": {},
   "outputs": [
    {
     "data": {
      "text/plain": [
       "Clear             197604\n",
       "Raining           111589\n",
       "Not Applicable     85294\n",
       "Cloudy             28823\n",
       "Other              15370\n",
       "Foggy               4847\n",
       "Snow                4661\n",
       "Severe Winds        1348\n",
       "Sleet                941\n",
       "Name: WEATHER_DESC, dtype: int64"
      ]
     },
     "execution_count": 12,
     "metadata": {},
     "output_type": "execute_result"
    }
   ],
   "source": [
    "df_state['WEATHER_DESC'] = df_state['WEATHER_DESC'].dropna(how='any')\n",
    "df_state['WEATHER_DESC'] = df_state['WEATHER_DESC'].replace(\n",
    "    {\"Blowing Sand, Soil, Dirt\": \"Other\", \n",
    "     \"Wintry Mix\": \"Other\" , \"Blowing Snow\": \"Other\", \"Unknown\": \"Other\"})\n",
    "df_state['WEATHER_DESC'].value_counts()\n",
    "#Clear, Raining, Cloudy, Other, snow, Foggy, Sleet, Severe Winds"
   ]
  },
  {
   "cell_type": "code",
   "execution_count": 26,
   "metadata": {},
   "outputs": [
    {
     "data": {
      "text/plain": [
       "Text(0.5, 1.0, '# of Reported Accidents per Weather Type')"
      ]
     },
     "execution_count": 26,
     "metadata": {},
     "output_type": "execute_result"
    },
    {
     "data": {
      "image/png": "[encoded data removed]",
      "text/plain": [
       "<Figure size 432x288 with 1 Axes>"
      ]
     },
     "metadata": {
      "needs_background": "light"
     },
     "output_type": "display_data"
    }
   ],
   "source": [
    "df_state_weather = df_state[df_state['WEATHER_DESC'].notna()]\n",
    "\n",
    "stateWeather = df_state_weather.groupby(\"WEATHER_DESC\")\n",
    "\n",
    "stateWeather_Reports = stateWeather['REPORT_NO'].count()\n",
    "\n",
    "\n",
    "\n",
    "chart1 = stateWeather_Reports.plot(kind=\"bar\", title=\"Accidents by Weather Type\")\n",
    "chart1.set_xlabel(\"Weather Type\")\n",
    "chart1.set_ylabel(\"# of Accidents\")\n",
    "chart1.set_title(\"# of Reported Accidents per Weather Type\")"
   ]
  },
  {
   "cell_type": "code",
   "execution_count": 20,
   "metadata": {},
   "outputs": [
    {
     "data": {
      "text/plain": [
       "Text(0, 0.5, '# of Reports Log 10')"
      ]
     },
     "execution_count": 20,
     "metadata": {},
     "output_type": "execute_result"
    },
    {
     "data": {
      "image/png": "[encoded data removed]",
      "text/plain": [
       "<Figure size 432x288 with 1 Axes>"
      ]
     },
     "metadata": {
      "needs_background": "light"
     },
     "output_type": "display_data"
    }
   ],
   "source": [
    "#Log Version of Graph 2\n",
    "x2 = df_state['WEATHER_DESC'].value_counts().index\n",
    "y2 = np.log10(df_state['WEATHER_DESC'].value_counts().values)\n",
    "chart = sns.barplot(x=x2,y=y2)\n",
    "plt.xticks(rotation=90)\n",
    "plt.xlabel(\"Weather Type\")\n",
    "plt.ylabel(\"# of Reports Log 10\")\n",
    "plt.title(\"# of Reported Accidents per Weather Type\")"
   ]
  },
  {
   "cell_type": "code",
   "execution_count": null,
   "metadata": {},
   "outputs": [],
   "source": []
  },
  {
   "cell_type": "code",
   "execution_count": 25,
   "metadata": {},
   "outputs": [
    {
     "data": {
      "text/plain": [
       "Text(0.5, 1.0, '# of Reported Accidents per Vehicle Body Type')"
      ]
     },
     "execution_count": 25,
     "metadata": {},
     "output_type": "execute_result"
    },
    {
     "data": {
      "image/png": "[encoded data removed]",
      "text/plain": [
       "<Figure size 432x288 with 1 Axes>"
      ]
     },
     "metadata": {
      "needs_background": "light"
     },
     "output_type": "display_data"
    }
   ],
   "source": [
    "#Simple Vehicle Body Type vs. # of Accidents\n",
    "df_county['Simple Vehicle Body Type'].value_counts().plot.bar()\n",
    "plt.xlabel(\"Vehicle Body Type\")\n",
    "plt.ylabel(\"# of Reported Accidents\")\n",
    "plt.title(\"# of Reported Accidents per Vehicle Body Type\")"
   ]
  },
  {
   "cell_type": "code",
   "execution_count": 24,
   "metadata": {},
   "outputs": [
    {
     "data": {
      "text/plain": [
       "Text(0, 0.5, '# of Reports Log 10')"
      ]
     },
     "execution_count": 24,
     "metadata": {},
     "output_type": "execute_result"
    },
    {
     "data": {
      "image/png": "[encoded data removed]",
      "text/plain": [
       "<Figure size 432x288 with 1 Axes>"
      ]
     },
     "metadata": {
      "needs_background": "light"
     },
     "output_type": "display_data"
    }
   ],
   "source": [
    "df_county['Simple Vehicle Body Type'] = df_county['Vehicle Body Type'].replace({'TRANSIT BUS':\"BUS\", \"SCHOOL BUS\": \"BUS\", \"(SPORT) UTILITY VEHICLE\": \"SUV\", \"OTHER LIGHT TRUCKS (10,000LBS (4,536KG) OR LESS)\": \"LIGHT SEMITRUCKS\", \"CARGO VAN/LIGHT TRUCK 2 AXLES (OVER 10,000LBS (4,536 KG))\": \"MEDIUM SEMITRUCKS\", \"POLICE VEHICLE/NON EMERGENCY\": \"POLICE\", \"POLICE VEHICLE/EMERGENCY\":\"POLICE\", \"MEDIUM/HEAVY TRUCKS 3 AXLES (OVER 10,000LBS (4,536KG))\":\"HEAVY SEMITRUCK\", \"STATION WAGON\":\"SUV\", \"TRUCK TRACTOR\":\"TRACTOR\", \"AMBULANCE/EMERGENCY\":\"FIRST RESPONDER\", \"FIRE VEHICLE/EMERGENCY\":\"FIRST RESPONDER\",\"OTHER BUS\":\"BUS\",\"FIRE VEHICLE/NON EMERGENCY\":\"FIRST RESPONDER\", \"RECREATIONAL VEHICLE\":\"RV\", \"AMBULANCE/NON EMERGENCY\":'FIRST RESPONDER', 'ALL TERRAIN VEHICLE (ATV)':\"ATV\"})\n",
    "# df_county['Simple Vehicle Body Type'] = df_county['Simple Vehicle Body Type'].drop(axis='columns', ['MOPED', 'AUTOCYCLE', 'LOW SPEED VEHICLE', 'CROSS COUNTRY BUS', 'FARM VEHICLE', 'LIMOUSINE'])\n",
    "df_county = df_county[ df_county['Simple Vehicle Body Type'] != 'MOPED']\n",
    "df_county = df_county[ df_county['Simple Vehicle Body Type'] != 'AUTOCYCLE']\n",
    "df_county = df_county[ df_county['Simple Vehicle Body Type'] != 'LOW SPEED VEHICLE']\n",
    "df_county = df_county[ df_county['Simple Vehicle Body Type'] != 'CROSS COUNTRY BUS']\n",
    "df_county = df_county[ df_county['Simple Vehicle Body Type'] != 'FARM VEHICLE']\n",
    "df_county = df_county[ df_county['Simple Vehicle Body Type'] != 'LIMOUSINE']\n",
    "df_county = df_county[ df_county['Simple Vehicle Body Type'] != 'UNKNOWN']\n",
    "df_county = df_county[ df_county['Simple Vehicle Body Type'] != 'OTHER']\n",
    "x = df_county['Simple Vehicle Body Type'].value_counts().index\n",
    "y = np.log10(df_county['Simple Vehicle Body Type'].value_counts().values)\n",
    "sns.barplot(x=x,y=y)\n",
    "plt.xticks(rotation=90)\n",
    "plt.xlabel(\"Vehicle Body Type\")\n",
    "plt.ylabel(\"# of Reports Log 10\")\n",
    "plt.title(\"# of Reported Accidents per Vehicle Body Type\")"
   ]
  },
  {
   "cell_type": "code",
   "execution_count": null,
   "metadata": {},
   "outputs": [],
   "source": [
    "df_nonmotor.head()"
   ]
  },
  {
   "cell_type": "code",
   "execution_count": 6,
   "metadata": {},
   "outputs": [
    {
     "name": "stdout",
     "output_type": "stream",
     "text": [
      "<class 'pandas.core.frame.DataFrame'>\n",
      "RangeIndex: 5131 entries, 0 to 5130\n",
      "Data columns (total 32 columns):\n",
      " #   Column                            Non-Null Count  Dtype  \n",
      "---  ------                            --------------  -----  \n",
      " 0   Report Number                     5131 non-null   object \n",
      " 1   Local Case Number                 5131 non-null   int64  \n",
      " 2   Agency Name                       5131 non-null   object \n",
      " 3   ACRS Report Type                  5131 non-null   object \n",
      " 4   Crash Date/Time                   5131 non-null   object \n",
      " 5   Route Type                        3928 non-null   object \n",
      " 6   Road Name                         3993 non-null   object \n",
      " 7   Cross-Street Type                 3928 non-null   object \n",
      " 8   Cross-Street Name                 3992 non-null   object \n",
      " 9   Off-Road Description              1138 non-null   object \n",
      " 10  Municipality                      565 non-null    object \n",
      " 11  Related Non-Motorist              5131 non-null   object \n",
      " 12  Collision Type                    4969 non-null   object \n",
      " 13  Weather                           4697 non-null   object \n",
      " 14  Surface Condition                 3857 non-null   object \n",
      " 15  Light                             5087 non-null   object \n",
      " 16  Traffic Control                   4378 non-null   object \n",
      " 17  Driver Substance Abuse            4156 non-null   object \n",
      " 18  Non-Motorist Substance Abuse      4049 non-null   object \n",
      " 19  Person ID                         5131 non-null   object \n",
      " 20  Pedestrian Type                   5131 non-null   object \n",
      " 21  Pedestrian Movement               4992 non-null   object \n",
      " 22  Pedestrian Actions                4860 non-null   object \n",
      " 23  Pedestrian Location               4987 non-null   object \n",
      " 24  Pedestrian Obeyed Traffic Signal  3601 non-null   object \n",
      " 25  Pedestrian Visibility             4645 non-null   object \n",
      " 26  At Fault                          4844 non-null   object \n",
      " 27  Injury Severity                   5131 non-null   object \n",
      " 28  Safety Equipment                  3368 non-null   object \n",
      " 29  Latitude                          5131 non-null   float64\n",
      " 30  Longitude                         5131 non-null   float64\n",
      " 31  Location                          5131 non-null   object \n",
      "dtypes: float64(2), int64(1), object(29)\n",
      "memory usage: 1.3+ MB\n"
     ]
    }
   ],
   "source": [
    "df_nonmotor.info()"
   ]
  },
  {
   "cell_type": "markdown",
   "metadata": {},
   "source": [
    "## Data Cleaning"
   ]
  },
  {
   "cell_type": "markdown",
   "metadata": {},
   "source": []
  },
  {
   "cell_type": "markdown",
   "metadata": {},
   "source": [
    "## Data Visualization"
   ]
  },
  {
   "cell_type": "markdown",
   "metadata": {},
   "source": []
  },
  {
   "cell_type": "markdown",
   "metadata": {},
   "source": [
    "## Conclusion"
   ]
  },
  {
   "cell_type": "markdown",
   "metadata": {},
   "source": []
  }
 ],
 "metadata": {
  "kernelspec": {
   "display_name": "PythonData",
   "language": "python",
   "name": "pythondata"
  },
  "language_info": {
   "codemirror_mode": {
    "name": "ipython",
    "version": 3
   },
   "file_extension": ".py",
   "mimetype": "text/x-python",
   "name": "python",
   "nbconvert_exporter": "python",
   "pygments_lexer": "ipython3",
   "version": "3.7.7"
  }
 },
 "nbformat": 4,
 "nbformat_minor": 2
}
