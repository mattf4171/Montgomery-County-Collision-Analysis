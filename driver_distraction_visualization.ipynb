{
 "cells": [
  {
   "cell_type": "code",
   "execution_count": 1,
   "metadata": {},
   "outputs": [
    {
     "name": "stdout",
     "output_type": "stream",
     "text": [
      "Requirement already satisfied: seaborn in c:\\users\\cece\\anaconda3\\envs\\pythondata\\lib\\site-packages (0.12.2)\n",
      "Requirement already satisfied: numpy!=1.24.0,>=1.17 in c:\\users\\cece\\anaconda3\\envs\\pythondata\\lib\\site-packages (from seaborn) (1.18.5)\n",
      "Requirement already satisfied: typing_extensions; python_version < \"3.8\" in c:\\users\\cece\\anaconda3\\envs\\pythondata\\lib\\site-packages (from seaborn) (4.1.1)\n",
      "Requirement already satisfied: pandas>=0.25 in c:\\users\\cece\\anaconda3\\envs\\pythondata\\lib\\site-packages (from seaborn) (1.0.5)\n",
      "Requirement already satisfied: matplotlib!=3.6.1,>=3.1 in c:\\users\\cece\\anaconda3\\envs\\pythondata\\lib\\site-packages (from seaborn) (3.2.2)\n",
      "Requirement already satisfied: pytz>=2017.2 in c:\\users\\cece\\anaconda3\\envs\\pythondata\\lib\\site-packages (from pandas>=0.25->seaborn) (2020.1)\n",
      "Requirement already satisfied: python-dateutil>=2.6.1 in c:\\users\\cece\\anaconda3\\envs\\pythondata\\lib\\site-packages (from pandas>=0.25->seaborn) (2.8.1)\n",
      "Requirement already satisfied: cycler>=0.10 in c:\\users\\cece\\anaconda3\\envs\\pythondata\\lib\\site-packages (from matplotlib!=3.6.1,>=3.1->seaborn) (0.10.0)\n",
      "Requirement already satisfied: kiwisolver>=1.0.1 in c:\\users\\cece\\anaconda3\\envs\\pythondata\\lib\\site-packages (from matplotlib!=3.6.1,>=3.1->seaborn) (1.2.0)\n",
      "Requirement already satisfied: pyparsing!=2.0.4,!=2.1.2,!=2.1.6,>=2.0.1 in c:\\users\\cece\\anaconda3\\envs\\pythondata\\lib\\site-packages (from matplotlib!=3.6.1,>=3.1->seaborn) (2.4.7)\n",
      "Requirement already satisfied: six>=1.5 in c:\\users\\cece\\anaconda3\\envs\\pythondata\\lib\\site-packages (from python-dateutil>=2.6.1->pandas>=0.25->seaborn) (1.15.0)\n"
     ]
    }
   ],
   "source": [
    "# Install seaborn package\n",
    "!pip3 install seaborn"
   ]
  },
  {
   "cell_type": "code",
   "execution_count": 2,
   "metadata": {},
   "outputs": [],
   "source": [
    "# Import modules from analysis.ipynb\n",
    "\n",
    "import sys\n",
    "import pandas as pd\n",
    "import matplotlib.pyplot as plt\n",
    "import seaborn as sns\n",
    "import warnings\n",
    "warnings.filterwarnings('ignore')"
   ]
  },
  {
   "cell_type": "code",
   "execution_count": 3,
   "metadata": {},
   "outputs": [],
   "source": [
    "# Get CSV\n",
    "\n",
    "driver_distraction = pd.read_csv(\"data/Driver_Distraction.csv\")"
   ]
  },
  {
   "cell_type": "code",
   "execution_count": null,
   "metadata": {},
   "outputs": [],
   "source": []
  }
 ],
 "metadata": {
  "kernelspec": {
   "display_name": "PythonData",
   "language": "python",
   "name": "python3"
  },
  "language_info": {
   "codemirror_mode": {
    "name": "ipython",
    "version": 3
   },
   "file_extension": ".py",
   "mimetype": "text/x-python",
   "name": "python",
   "nbconvert_exporter": "python",
   "pygments_lexer": "ipython3",
   "version": "3.7.7"
  },
  "orig_nbformat": 4
 },
 "nbformat": 4,
 "nbformat_minor": 2
}
