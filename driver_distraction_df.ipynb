{
 "cells": [
  {
   "cell_type": "code",
   "execution_count": 3,
   "metadata": {},
   "outputs": [
    {
     "name": "stdout",
     "output_type": "stream",
     "text": [
      "Requirement already satisfied: seaborn in c:\\users\\cece\\anaconda3\\envs\\pythondata\\lib\\site-packages (0.12.2)\n",
      "Requirement already satisfied: matplotlib!=3.6.1,>=3.1 in c:\\users\\cece\\anaconda3\\envs\\pythondata\\lib\\site-packages (from seaborn) (3.2.2)\n",
      "Requirement already satisfied: pandas>=0.25 in c:\\users\\cece\\anaconda3\\envs\\pythondata\\lib\\site-packages (from seaborn) (1.0.5)\n",
      "Requirement already satisfied: numpy!=1.24.0,>=1.17 in c:\\users\\cece\\anaconda3\\envs\\pythondata\\lib\\site-packages (from seaborn) (1.18.5)\n",
      "Requirement already satisfied: typing_extensions; python_version < \"3.8\" in c:\\users\\cece\\anaconda3\\envs\\pythondata\\lib\\site-packages (from seaborn) (4.1.1)\n",
      "Requirement already satisfied: kiwisolver>=1.0.1 in c:\\users\\cece\\anaconda3\\envs\\pythondata\\lib\\site-packages (from matplotlib!=3.6.1,>=3.1->seaborn) (1.2.0)\n",
      "Requirement already satisfied: cycler>=0.10 in c:\\users\\cece\\anaconda3\\envs\\pythondata\\lib\\site-packages (from matplotlib!=3.6.1,>=3.1->seaborn) (0.10.0)\n",
      "Requirement already satisfied: pyparsing!=2.0.4,!=2.1.2,!=2.1.6,>=2.0.1 in c:\\users\\cece\\anaconda3\\envs\\pythondata\\lib\\site-packages (from matplotlib!=3.6.1,>=3.1->seaborn) (2.4.7)\n",
      "Requirement already satisfied: python-dateutil>=2.1 in c:\\users\\cece\\anaconda3\\envs\\pythondata\\lib\\site-packages (from matplotlib!=3.6.1,>=3.1->seaborn) (2.8.1)\n",
      "Requirement already satisfied: pytz>=2017.2 in c:\\users\\cece\\anaconda3\\envs\\pythondata\\lib\\site-packages (from pandas>=0.25->seaborn) (2020.1)\n",
      "Requirement already satisfied: six in c:\\users\\cece\\anaconda3\\envs\\pythondata\\lib\\site-packages (from cycler>=0.10->matplotlib!=3.6.1,>=3.1->seaborn) (1.15.0)\n"
     ]
    }
   ],
   "source": [
    "# Install seaborn package\n",
    "!pip3 install seaborn"
   ]
  },
  {
   "cell_type": "code",
   "execution_count": 4,
   "metadata": {},
   "outputs": [],
   "source": [
    "# Import modules from analysis.ipynb\n",
    "\n",
    "import sys\n",
    "import pandas as pd\n",
    "import matplotlib.pyplot as plt\n",
    "import seaborn as sns\n",
    "import warnings\n",
    "warnings.filterwarnings('ignore')"
   ]
  },
  {
   "cell_type": "code",
   "execution_count": 5,
   "metadata": {},
   "outputs": [],
   "source": [
    "# Get CSV\n",
    "\n",
    "non_motorist_df = pd.read_csv(\"data/Crash_Reporting_-_Non-Motorists_Data.csv\")\n",
    "county_df = pd.read_csv(\"data/Crash_Reporting_-_Drivers_Data.csv\")\n",
    "state_df = pd.read_csv(\"data/Maryland_Statewide_Vehicle_Crashes.csv\")"
   ]
  },
  {
   "cell_type": "code",
   "execution_count": 6,
   "metadata": {},
   "outputs": [
    {
     "data": {
      "text/plain": [
       "Index(['Report Number', 'Local Case Number', 'Agency Name', 'ACRS Report Type',\n",
       "       'Crash Date/Time', 'Route Type', 'Road Name', 'Cross-Street Type',\n",
       "       'Cross-Street Name', 'Off-Road Description', 'Municipality',\n",
       "       'Related Non-Motorist', 'Collision Type', 'Weather',\n",
       "       'Surface Condition', 'Light', 'Traffic Control',\n",
       "       'Driver Substance Abuse', 'Non-Motorist Substance Abuse', 'Person ID',\n",
       "       'Pedestrian Type', 'Pedestrian Movement', 'Pedestrian Actions',\n",
       "       'Pedestrian Location', 'Pedestrian Obeyed Traffic Signal',\n",
       "       'Pedestrian Visibility', 'At Fault', 'Injury Severity',\n",
       "       'Safety Equipment', 'Latitude', 'Longitude', 'Location'],\n",
       "      dtype='object')"
      ]
     },
     "execution_count": 6,
     "metadata": {},
     "output_type": "execute_result"
    }
   ],
   "source": [
    "# View columns\n",
    "\n",
    "non_motorist_df.columns"
   ]
  },
  {
   "cell_type": "code",
   "execution_count": 7,
   "metadata": {},
   "outputs": [
    {
     "data": {
      "text/plain": [
       "Index(['Report Number', 'Local Case Number', 'Agency Name', 'ACRS Report Type',\n",
       "       'Crash Date/Time', 'Route Type', 'Road Name', 'Cross-Street Type',\n",
       "       'Cross-Street Name', 'Off-Road Description', 'Municipality',\n",
       "       'Related Non-Motorist', 'Collision Type', 'Weather',\n",
       "       'Surface Condition', 'Light', 'Traffic Control',\n",
       "       'Driver Substance Abuse', 'Non-Motorist Substance Abuse', 'Person ID',\n",
       "       'Driver At Fault', 'Injury Severity', 'Circumstance',\n",
       "       'Driver Distracted By', 'Drivers License State', 'Vehicle ID',\n",
       "       'Vehicle Damage Extent', 'Vehicle First Impact Location',\n",
       "       'Vehicle Second Impact Location', 'Vehicle Body Type',\n",
       "       'Vehicle Movement', 'Vehicle Continuing Dir', 'Vehicle Going Dir',\n",
       "       'Speed Limit', 'Driverless Vehicle', 'Parked Vehicle', 'Vehicle Year',\n",
       "       'Vehicle Make', 'Vehicle Model', 'Equipment Problems', 'Latitude',\n",
       "       'Longitude', 'Location'],\n",
       "      dtype='object')"
      ]
     },
     "execution_count": 7,
     "metadata": {},
     "output_type": "execute_result"
    }
   ],
   "source": [
    "# View columns\n",
    "\n",
    "county_df.columns"
   ]
  },
  {
   "cell_type": "code",
   "execution_count": 8,
   "metadata": {},
   "outputs": [
    {
     "data": {
      "text/plain": [
       "Index(['YEAR', 'QUARTER', 'LIGHT_DESC', 'LIGHT_CODE', 'COUNTY_DESC',\n",
       "       'COUNTY_NO', 'MUNI_DESC', 'MUNI_CODE', 'JUNCTION_DESC', 'JUNCTION_CODE',\n",
       "       'COLLISION_TYPE_DESC', 'COLLISION_TYPE_CODE', 'SURF_COND_DESC',\n",
       "       'SURF_COND_CODE', 'LANE_CODE', 'RD_COND_DESC', 'RD_COND_CODE',\n",
       "       'RD_DIV_DESC', 'RD_DIV_CODE', 'FIX_OBJ_DESC', 'FIX_OBJ_CODE',\n",
       "       'REPORT_NO', 'REPORT_TYPE', 'WEATHER_DESC', 'WEATHER_CODE', 'ACC_DATE',\n",
       "       'ACC_TIME', 'LOC_CODE', 'SIGNAL_FLAG_DESC', 'SIGNAL_FLAG',\n",
       "       'C_M_ZONE_FLAG', 'AGENCY_CODE', 'AREA_CODE', 'HARM_EVENT_DESC1',\n",
       "       'HARM_EVENT_CODE1', 'HARM_EVENT_DESC2', 'HARM_EVENT_CODE2', 'RTE_NO',\n",
       "       'ROUTE_TYPE_CODE', 'RTE_SUFFIX', 'LOG_MILE', 'LOGMILE_DIR_FLAG_DESC',\n",
       "       'LOGMILE_DIR_FLAG', 'MAINROAD_NAME', 'DISTANCE', 'FEET_MILES_FLAG_DESC',\n",
       "       'FEET_MILES_FLAG', 'DISTANCE_DIR_FLAG', 'REFERENCE_NO',\n",
       "       'REFERENCE_TYPE_CODE', 'REFERENCE_SUFFIX', 'REFERENCE_ROAD_NAME',\n",
       "       'LATITUDE', 'LONGITUDE', 'LOCATION'],\n",
       "      dtype='object')"
      ]
     },
     "execution_count": 8,
     "metadata": {},
     "output_type": "execute_result"
    }
   ],
   "source": [
    "# View columns. Probably not going to use this, doesn't seem to have any extra information that the previous two did not\n",
    "\n",
    "state_df.columns"
   ]
  },
  {
   "cell_type": "code",
   "execution_count": 9,
   "metadata": {},
   "outputs": [],
   "source": [
    "# Reduce the columns in a slow simmer\n",
    "\n",
    "county_reduced_df = county_df[['Report Number','Local Case Number','ACRS Report Type','Related Non-Motorist','Driver Substance Abuse','Non-Motorist Substance Abuse','Driver At Fault','Injury Severity','Circumstance','Driver Distracted By','Speed Limit']]\n",
    "non_motorist_reduced_df = non_motorist_df[['Report Number','Local Case Number','Pedestrian Type','Pedestrian Movement','Pedestrian Actions','Pedestrian Location','Pedestrian Obeyed Traffic Signal','Pedestrian Visibility','At Fault']]"
   ]
  },
  {
   "cell_type": "code",
   "execution_count": 10,
   "metadata": {},
   "outputs": [
    {
     "data": {
      "text/html": [
       "<div>\n",
       "<style scoped>\n",
       "    .dataframe tbody tr th:only-of-type {\n",
       "        vertical-align: middle;\n",
       "    }\n",
       "\n",
       "    .dataframe tbody tr th {\n",
       "        vertical-align: top;\n",
       "    }\n",
       "\n",
       "    .dataframe thead th {\n",
       "        text-align: right;\n",
       "    }\n",
       "</style>\n",
       "<table border=\"1\" class=\"dataframe\">\n",
       "  <thead>\n",
       "    <tr style=\"text-align: right;\">\n",
       "      <th></th>\n",
       "      <th>Report Number</th>\n",
       "      <th>Local Case Number</th>\n",
       "      <th>ACRS Report Type</th>\n",
       "      <th>Related Non-Motorist</th>\n",
       "      <th>Driver Substance Abuse</th>\n",
       "      <th>Non-Motorist Substance Abuse</th>\n",
       "      <th>Driver At Fault</th>\n",
       "      <th>Injury Severity</th>\n",
       "      <th>Circumstance</th>\n",
       "      <th>Driver Distracted By</th>\n",
       "      <th>Speed Limit</th>\n",
       "      <th>Pedestrian Type</th>\n",
       "      <th>Pedestrian Movement</th>\n",
       "      <th>Pedestrian Actions</th>\n",
       "      <th>Pedestrian Location</th>\n",
       "      <th>Pedestrian Obeyed Traffic Signal</th>\n",
       "      <th>Pedestrian Visibility</th>\n",
       "      <th>Pedestrian At Fault</th>\n",
       "    </tr>\n",
       "  </thead>\n",
       "  <tbody>\n",
       "    <tr>\n",
       "      <th>0</th>\n",
       "      <td>MCP28000052</td>\n",
       "      <td>220014387</td>\n",
       "      <td>Injury Crash</td>\n",
       "      <td>OTHER CONVEYANCE</td>\n",
       "      <td>NONE DETECTED</td>\n",
       "      <td>N/A, NONE DETECTED</td>\n",
       "      <td>Yes</td>\n",
       "      <td>NO APPARENT INJURY</td>\n",
       "      <td>NaN</td>\n",
       "      <td>LOOKED BUT DID NOT SEE</td>\n",
       "      <td>0</td>\n",
       "      <td>OTHER CONVEYANCE</td>\n",
       "      <td>Walking/Cycling on Sidewalk</td>\n",
       "      <td>NO IMPROPER ACTIONS</td>\n",
       "      <td>DRIVEWAY ACCESS MARKED CROSSWALK</td>\n",
       "      <td>NO PED. SIGNAL</td>\n",
       "      <td>MIXED CLOTHING</td>\n",
       "      <td>No</td>\n",
       "    </tr>\n",
       "    <tr>\n",
       "      <th>1</th>\n",
       "      <td>MCP28000052</td>\n",
       "      <td>220014387</td>\n",
       "      <td>Injury Crash</td>\n",
       "      <td>OTHER CONVEYANCE</td>\n",
       "      <td>NONE DETECTED</td>\n",
       "      <td>N/A, NONE DETECTED</td>\n",
       "      <td>Yes</td>\n",
       "      <td>NO APPARENT INJURY</td>\n",
       "      <td>NaN</td>\n",
       "      <td>LOOKED BUT DID NOT SEE</td>\n",
       "      <td>0</td>\n",
       "      <td>OTHER CONVEYANCE</td>\n",
       "      <td>Walking/Cycling on Sidewalk</td>\n",
       "      <td>NO IMPROPER ACTIONS</td>\n",
       "      <td>DRIVEWAY ACCESS MARKED CROSSWALK</td>\n",
       "      <td>NO PED. SIGNAL</td>\n",
       "      <td>MIXED CLOTHING</td>\n",
       "      <td>No</td>\n",
       "    </tr>\n",
       "    <tr>\n",
       "      <th>2</th>\n",
       "      <td>MCP32390021</td>\n",
       "      <td>220015651</td>\n",
       "      <td>Injury Crash</td>\n",
       "      <td>PEDESTRIAN</td>\n",
       "      <td>UNKNOWN</td>\n",
       "      <td>NaN</td>\n",
       "      <td>Yes</td>\n",
       "      <td>NO APPARENT INJURY</td>\n",
       "      <td>NaN</td>\n",
       "      <td>UNKNOWN</td>\n",
       "      <td>25</td>\n",
       "      <td>PEDESTRIAN</td>\n",
       "      <td>Unknown</td>\n",
       "      <td>NO IMPROPER ACTIONS</td>\n",
       "      <td>ON ROADWAY NOT AT CROSSWALK</td>\n",
       "      <td>NaN</td>\n",
       "      <td>MIXED CLOTHING</td>\n",
       "      <td>No</td>\n",
       "    </tr>\n",
       "    <tr>\n",
       "      <th>3</th>\n",
       "      <td>EJ78890025</td>\n",
       "      <td>220014084</td>\n",
       "      <td>Injury Crash</td>\n",
       "      <td>PEDESTRIAN</td>\n",
       "      <td>UNKNOWN</td>\n",
       "      <td>NONE DETECTED</td>\n",
       "      <td>Yes</td>\n",
       "      <td>NO APPARENT INJURY</td>\n",
       "      <td>NaN</td>\n",
       "      <td>NOT DISTRACTED</td>\n",
       "      <td>5</td>\n",
       "      <td>PEDESTRIAN</td>\n",
       "      <td>Standing</td>\n",
       "      <td>NO IMPROPER ACTIONS</td>\n",
       "      <td>OTHER</td>\n",
       "      <td>NO PED. SIGNAL</td>\n",
       "      <td>DARK CLOTHING</td>\n",
       "      <td>No</td>\n",
       "    </tr>\n",
       "    <tr>\n",
       "      <th>4</th>\n",
       "      <td>MCP2720006P</td>\n",
       "      <td>220015282</td>\n",
       "      <td>Injury Crash</td>\n",
       "      <td>PEDESTRIAN</td>\n",
       "      <td>UNKNOWN</td>\n",
       "      <td>UNKNOWN</td>\n",
       "      <td>Yes</td>\n",
       "      <td>NO APPARENT INJURY</td>\n",
       "      <td>NaN</td>\n",
       "      <td>UNKNOWN</td>\n",
       "      <td>30</td>\n",
       "      <td>PEDESTRIAN</td>\n",
       "      <td>Cross/Enter at Intersection</td>\n",
       "      <td>UNKNOWN</td>\n",
       "      <td>ON ROADWAY AT CROSSWALK</td>\n",
       "      <td>OBEYED PED. SIGNAL</td>\n",
       "      <td>UNKNOWN</td>\n",
       "      <td>No</td>\n",
       "    </tr>\n",
       "  </tbody>\n",
       "</table>\n",
       "</div>"
      ],
      "text/plain": [
       "  Report Number Local Case Number ACRS Report Type Related Non-Motorist  \\\n",
       "0   MCP28000052         220014387     Injury Crash     OTHER CONVEYANCE   \n",
       "1   MCP28000052         220014387     Injury Crash     OTHER CONVEYANCE   \n",
       "2   MCP32390021         220015651     Injury Crash           PEDESTRIAN   \n",
       "3    EJ78890025         220014084     Injury Crash           PEDESTRIAN   \n",
       "4   MCP2720006P         220015282     Injury Crash           PEDESTRIAN   \n",
       "\n",
       "  Driver Substance Abuse Non-Motorist Substance Abuse Driver At Fault  \\\n",
       "0          NONE DETECTED           N/A, NONE DETECTED             Yes   \n",
       "1          NONE DETECTED           N/A, NONE DETECTED             Yes   \n",
       "2                UNKNOWN                          NaN             Yes   \n",
       "3                UNKNOWN                NONE DETECTED             Yes   \n",
       "4                UNKNOWN                      UNKNOWN             Yes   \n",
       "\n",
       "      Injury Severity Circumstance    Driver Distracted By  Speed Limit  \\\n",
       "0  NO APPARENT INJURY          NaN  LOOKED BUT DID NOT SEE            0   \n",
       "1  NO APPARENT INJURY          NaN  LOOKED BUT DID NOT SEE            0   \n",
       "2  NO APPARENT INJURY          NaN                 UNKNOWN           25   \n",
       "3  NO APPARENT INJURY          NaN          NOT DISTRACTED            5   \n",
       "4  NO APPARENT INJURY          NaN                 UNKNOWN           30   \n",
       "\n",
       "    Pedestrian Type          Pedestrian Movement   Pedestrian Actions  \\\n",
       "0  OTHER CONVEYANCE  Walking/Cycling on Sidewalk  NO IMPROPER ACTIONS   \n",
       "1  OTHER CONVEYANCE  Walking/Cycling on Sidewalk  NO IMPROPER ACTIONS   \n",
       "2        PEDESTRIAN                      Unknown  NO IMPROPER ACTIONS   \n",
       "3        PEDESTRIAN                     Standing  NO IMPROPER ACTIONS   \n",
       "4        PEDESTRIAN  Cross/Enter at Intersection              UNKNOWN   \n",
       "\n",
       "                Pedestrian Location Pedestrian Obeyed Traffic Signal  \\\n",
       "0  DRIVEWAY ACCESS MARKED CROSSWALK                   NO PED. SIGNAL   \n",
       "1  DRIVEWAY ACCESS MARKED CROSSWALK                   NO PED. SIGNAL   \n",
       "2       ON ROADWAY NOT AT CROSSWALK                              NaN   \n",
       "3                             OTHER                   NO PED. SIGNAL   \n",
       "4           ON ROADWAY AT CROSSWALK               OBEYED PED. SIGNAL   \n",
       "\n",
       "  Pedestrian Visibility Pedestrian At Fault  \n",
       "0        MIXED CLOTHING                  No  \n",
       "1        MIXED CLOTHING                  No  \n",
       "2        MIXED CLOTHING                  No  \n",
       "3         DARK CLOTHING                  No  \n",
       "4               UNKNOWN                  No  "
      ]
     },
     "execution_count": 10,
     "metadata": {},
     "output_type": "execute_result"
    }
   ],
   "source": [
    "# Add columns to a new DataFrame for all visualizations\n",
    "\n",
    "driver_distration_df = pd.merge(county_reduced_df,non_motorist_reduced_df,on=['Report Number','Local Case Number'])\n",
    "driver_distration_df = driver_distration_df.rename(columns={'At Fault':'Pedestrian At Fault'})\n",
    "driver_distration_df.head()"
   ]
  },
  {
   "cell_type": "code",
   "execution_count": 13,
   "metadata": {},
   "outputs": [
    {
     "name": "stdout",
     "output_type": "stream",
     "text": [
      "<class 'pandas.core.frame.DataFrame'>\n",
      "Int64Index: 583 entries, 0 to 582\n",
      "Data columns (total 18 columns):\n",
      " #   Column                            Non-Null Count  Dtype \n",
      "---  ------                            --------------  ----- \n",
      " 0   Report Number                     583 non-null    object\n",
      " 1   Local Case Number                 583 non-null    int64 \n",
      " 2   ACRS Report Type                  583 non-null    object\n",
      " 3   Related Non-Motorist              583 non-null    object\n",
      " 4   Driver Substance Abuse            583 non-null    object\n",
      " 5   Non-Motorist Substance Abuse      583 non-null    object\n",
      " 6   Driver At Fault                   583 non-null    object\n",
      " 7   Injury Severity                   583 non-null    object\n",
      " 8   Circumstance                      583 non-null    object\n",
      " 9   Driver Distracted By              583 non-null    object\n",
      " 10  Speed Limit                       583 non-null    int64 \n",
      " 11  Pedestrian Type                   583 non-null    object\n",
      " 12  Pedestrian Movement               583 non-null    object\n",
      " 13  Pedestrian Actions                583 non-null    object\n",
      " 14  Pedestrian Location               583 non-null    object\n",
      " 15  Pedestrian Obeyed Traffic Signal  583 non-null    object\n",
      " 16  Pedestrian Visibility             583 non-null    object\n",
      " 17  Pedestrian At Fault               583 non-null    object\n",
      "dtypes: int64(2), object(16)\n",
      "memory usage: 86.5+ KB\n"
     ]
    }
   ],
   "source": [
    "# Fill in the blank with even more useless chatter\n",
    "\n",
    "driver_distration_df.fillna(\"No Information\",inplace=True)\n",
    "\n",
    "driver_distration_df.info()"
   ]
  },
  {
   "cell_type": "code",
   "execution_count": 14,
   "metadata": {},
   "outputs": [],
   "source": [
    "# Create separate CSV for convenience\n",
    "\n",
    "driver_distration_df.to_csv(\"data/Driver_Distraction.csv\",index=False)"
   ]
  },
  {
   "cell_type": "code",
   "execution_count": null,
   "metadata": {},
   "outputs": [],
   "source": []
  }
 ],
 "metadata": {
  "kernelspec": {
   "display_name": "PythonData",
   "language": "python",
   "name": "python3"
  },
  "language_info": {
   "codemirror_mode": {
    "name": "ipython",
    "version": 3
   },
   "file_extension": ".py",
   "mimetype": "text/x-python",
   "name": "python",
   "nbconvert_exporter": "python",
   "pygments_lexer": "ipython3",
   "version": "3.7.7"
  },
  "orig_nbformat": 4
 },
 "nbformat": 4,
 "nbformat_minor": 2
}
