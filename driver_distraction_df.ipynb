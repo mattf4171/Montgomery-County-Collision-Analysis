{
 "cells": [
  {
   "cell_type": "code",
   "execution_count": 2,
   "metadata": {},
   "outputs": [
    {
     "name": "stdout",
     "output_type": "stream",
     "text": [
      "Requirement already satisfied: seaborn in c:\\users\\cece\\anaconda3\\envs\\pythondata\\lib\\site-packages (0.12.2)\n",
      "Requirement already satisfied: matplotlib!=3.6.1,>=3.1 in c:\\users\\cece\\anaconda3\\envs\\pythondata\\lib\\site-packages (from seaborn) (3.2.2)\n",
      "Requirement already satisfied: typing_extensions; python_version < \"3.8\" in c:\\users\\cece\\anaconda3\\envs\\pythondata\\lib\\site-packages (from seaborn) (4.1.1)\n",
      "Requirement already satisfied: pandas>=0.25 in c:\\users\\cece\\anaconda3\\envs\\pythondata\\lib\\site-packages (from seaborn) (1.0.5)\n",
      "Requirement already satisfied: numpy!=1.24.0,>=1.17 in c:\\users\\cece\\anaconda3\\envs\\pythondata\\lib\\site-packages (from seaborn) (1.18.5)\n",
      "Requirement already satisfied: python-dateutil>=2.1 in c:\\users\\cece\\anaconda3\\envs\\pythondata\\lib\\site-packages (from matplotlib!=3.6.1,>=3.1->seaborn) (2.8.1)\n",
      "Requirement already satisfied: pyparsing!=2.0.4,!=2.1.2,!=2.1.6,>=2.0.1 in c:\\users\\cece\\anaconda3\\envs\\pythondata\\lib\\site-packages (from matplotlib!=3.6.1,>=3.1->seaborn) (2.4.7)\n",
      "Requirement already satisfied: cycler>=0.10 in c:\\users\\cece\\anaconda3\\envs\\pythondata\\lib\\site-packages (from matplotlib!=3.6.1,>=3.1->seaborn) (0.10.0)\n",
      "Requirement already satisfied: kiwisolver>=1.0.1 in c:\\users\\cece\\anaconda3\\envs\\pythondata\\lib\\site-packages (from matplotlib!=3.6.1,>=3.1->seaborn) (1.2.0)\n",
      "Requirement already satisfied: pytz>=2017.2 in c:\\users\\cece\\anaconda3\\envs\\pythondata\\lib\\site-packages (from pandas>=0.25->seaborn) (2020.1)\n",
      "Requirement already satisfied: six>=1.5 in c:\\users\\cece\\anaconda3\\envs\\pythondata\\lib\\site-packages (from python-dateutil>=2.1->matplotlib!=3.6.1,>=3.1->seaborn) (1.15.0)\n"
     ]
    }
   ],
   "source": [
    "# Install seaborn package\n",
    "!pip3 install seaborn"
   ]
  },
  {
   "cell_type": "code",
   "execution_count": 3,
   "metadata": {},
   "outputs": [],
   "source": [
    "# Import modules from analysis.ipynb\n",
    "\n",
    "import sys\n",
    "import pandas as pd\n",
    "import matplotlib.pyplot as plt\n",
    "import seaborn as sns\n",
    "import warnings\n",
    "import numpy as np\n",
    "warnings.filterwarnings('ignore')"
   ]
  },
  {
   "cell_type": "code",
   "execution_count": 4,
   "metadata": {},
   "outputs": [],
   "source": [
    "# Get CSV\n",
    "\n",
    "non_motorist_df = pd.read_csv(\"data/Crash_Reporting_-_Non-Motorists_Data.csv\")\n",
    "county_df = pd.read_csv(\"data/Crash_Reporting_-_Drivers_Data.csv\")\n",
    "state_df = pd.read_csv(\"data/Maryland_Statewide_Vehicle_Crashes.csv\")"
   ]
  },
  {
   "cell_type": "code",
   "execution_count": 5,
   "metadata": {},
   "outputs": [
    {
     "data": {
      "text/plain": [
       "Index(['Report Number', 'Local Case Number', 'Agency Name', 'ACRS Report Type',\n",
       "       'Crash Date/Time', 'Route Type', 'Road Name', 'Cross-Street Type',\n",
       "       'Cross-Street Name', 'Off-Road Description', 'Municipality',\n",
       "       'Related Non-Motorist', 'Collision Type', 'Weather',\n",
       "       'Surface Condition', 'Light', 'Traffic Control',\n",
       "       'Driver Substance Abuse', 'Non-Motorist Substance Abuse', 'Person ID',\n",
       "       'Pedestrian Type', 'Pedestrian Movement', 'Pedestrian Actions',\n",
       "       'Pedestrian Location', 'Pedestrian Obeyed Traffic Signal',\n",
       "       'Pedestrian Visibility', 'At Fault', 'Injury Severity',\n",
       "       'Safety Equipment', 'Latitude', 'Longitude', 'Location'],\n",
       "      dtype='object')"
      ]
     },
     "execution_count": 5,
     "metadata": {},
     "output_type": "execute_result"
    }
   ],
   "source": [
    "# View columns\n",
    "\n",
    "non_motorist_df.columns"
   ]
  },
  {
   "cell_type": "code",
   "execution_count": 6,
   "metadata": {},
   "outputs": [
    {
     "data": {
      "text/plain": [
       "Index(['Report Number', 'Local Case Number', 'Agency Name', 'ACRS Report Type',\n",
       "       'Crash Date/Time', 'Route Type', 'Road Name', 'Cross-Street Type',\n",
       "       'Cross-Street Name', 'Off-Road Description', 'Municipality',\n",
       "       'Related Non-Motorist', 'Collision Type', 'Weather',\n",
       "       'Surface Condition', 'Light', 'Traffic Control',\n",
       "       'Driver Substance Abuse', 'Non-Motorist Substance Abuse', 'Person ID',\n",
       "       'Driver At Fault', 'Injury Severity', 'Circumstance',\n",
       "       'Driver Distracted By', 'Drivers License State', 'Vehicle ID',\n",
       "       'Vehicle Damage Extent', 'Vehicle First Impact Location',\n",
       "       'Vehicle Second Impact Location', 'Vehicle Body Type',\n",
       "       'Vehicle Movement', 'Vehicle Continuing Dir', 'Vehicle Going Dir',\n",
       "       'Speed Limit', 'Driverless Vehicle', 'Parked Vehicle', 'Vehicle Year',\n",
       "       'Vehicle Make', 'Vehicle Model', 'Equipment Problems', 'Latitude',\n",
       "       'Longitude', 'Location'],\n",
       "      dtype='object')"
      ]
     },
     "execution_count": 6,
     "metadata": {},
     "output_type": "execute_result"
    }
   ],
   "source": [
    "# View columns\n",
    "\n",
    "county_df.columns"
   ]
  },
  {
   "cell_type": "code",
   "execution_count": 7,
   "metadata": {},
   "outputs": [
    {
     "data": {
      "text/plain": [
       "Index(['YEAR', 'QUARTER', 'LIGHT_DESC', 'LIGHT_CODE', 'COUNTY_DESC',\n",
       "       'COUNTY_NO', 'MUNI_DESC', 'MUNI_CODE', 'JUNCTION_DESC', 'JUNCTION_CODE',\n",
       "       'COLLISION_TYPE_DESC', 'COLLISION_TYPE_CODE', 'SURF_COND_DESC',\n",
       "       'SURF_COND_CODE', 'LANE_CODE', 'RD_COND_DESC', 'RD_COND_CODE',\n",
       "       'RD_DIV_DESC', 'RD_DIV_CODE', 'FIX_OBJ_DESC', 'FIX_OBJ_CODE',\n",
       "       'REPORT_NO', 'REPORT_TYPE', 'WEATHER_DESC', 'WEATHER_CODE', 'ACC_DATE',\n",
       "       'ACC_TIME', 'LOC_CODE', 'SIGNAL_FLAG_DESC', 'SIGNAL_FLAG',\n",
       "       'C_M_ZONE_FLAG', 'AGENCY_CODE', 'AREA_CODE', 'HARM_EVENT_DESC1',\n",
       "       'HARM_EVENT_CODE1', 'HARM_EVENT_DESC2', 'HARM_EVENT_CODE2', 'RTE_NO',\n",
       "       'ROUTE_TYPE_CODE', 'RTE_SUFFIX', 'LOG_MILE', 'LOGMILE_DIR_FLAG_DESC',\n",
       "       'LOGMILE_DIR_FLAG', 'MAINROAD_NAME', 'DISTANCE', 'FEET_MILES_FLAG_DESC',\n",
       "       'FEET_MILES_FLAG', 'DISTANCE_DIR_FLAG', 'REFERENCE_NO',\n",
       "       'REFERENCE_TYPE_CODE', 'REFERENCE_SUFFIX', 'REFERENCE_ROAD_NAME',\n",
       "       'LATITUDE', 'LONGITUDE', 'LOCATION'],\n",
       "      dtype='object')"
      ]
     },
     "execution_count": 7,
     "metadata": {},
     "output_type": "execute_result"
    }
   ],
   "source": [
    "# View columns. Probably not going to use this, doesn't seem to have any extra information that the previous two did not\n",
    "\n",
    "state_df.columns"
   ]
  },
  {
   "cell_type": "code",
   "execution_count": 8,
   "metadata": {},
   "outputs": [],
   "source": [
    "# Reduce the columns in a slow simmer\n",
    "\n",
    "county_reduced_df = county_df[['Report Number','Local Case Number','ACRS Report Type','Related Non-Motorist','Driver Substance Abuse','Non-Motorist Substance Abuse','Driver At Fault','Injury Severity','Circumstance','Driver Distracted By','Speed Limit']]\n",
    "non_motorist_reduced_df = non_motorist_df[['Report Number','Local Case Number','Pedestrian Type','Pedestrian Movement','Pedestrian Actions','Pedestrian Location','Pedestrian Obeyed Traffic Signal','Pedestrian Visibility','At Fault']]"
   ]
  },
  {
   "cell_type": "code",
   "execution_count": 9,
   "metadata": {},
   "outputs": [
    {
     "data": {
      "text/html": [
       "<div>\n",
       "<style scoped>\n",
       "    .dataframe tbody tr th:only-of-type {\n",
       "        vertical-align: middle;\n",
       "    }\n",
       "\n",
       "    .dataframe tbody tr th {\n",
       "        vertical-align: top;\n",
       "    }\n",
       "\n",
       "    .dataframe thead th {\n",
       "        text-align: right;\n",
       "    }\n",
       "</style>\n",
       "<table border=\"1\" class=\"dataframe\">\n",
       "  <thead>\n",
       "    <tr style=\"text-align: right;\">\n",
       "      <th></th>\n",
       "      <th>Report Number</th>\n",
       "      <th>Local Case Number</th>\n",
       "      <th>ACRS Report Type</th>\n",
       "      <th>Related Non-Motorist</th>\n",
       "      <th>Driver Substance Abuse</th>\n",
       "      <th>Non-Motorist Substance Abuse</th>\n",
       "      <th>Driver At Fault</th>\n",
       "      <th>Injury Severity</th>\n",
       "      <th>Circumstance</th>\n",
       "      <th>Driver Distracted By</th>\n",
       "      <th>Speed Limit</th>\n",
       "      <th>Pedestrian Type</th>\n",
       "      <th>Pedestrian Movement</th>\n",
       "      <th>Pedestrian Actions</th>\n",
       "      <th>Pedestrian Location</th>\n",
       "      <th>Pedestrian Obeyed Traffic Signal</th>\n",
       "      <th>Pedestrian Visibility</th>\n",
       "      <th>Pedestrian At Fault</th>\n",
       "    </tr>\n",
       "  </thead>\n",
       "  <tbody>\n",
       "    <tr>\n",
       "      <th>0</th>\n",
       "      <td>MCP28000052</td>\n",
       "      <td>220014387</td>\n",
       "      <td>Injury Crash</td>\n",
       "      <td>OTHER CONVEYANCE</td>\n",
       "      <td>NONE DETECTED</td>\n",
       "      <td>N/A, NONE DETECTED</td>\n",
       "      <td>Yes</td>\n",
       "      <td>NO APPARENT INJURY</td>\n",
       "      <td>NaN</td>\n",
       "      <td>LOOKED BUT DID NOT SEE</td>\n",
       "      <td>0</td>\n",
       "      <td>OTHER CONVEYANCE</td>\n",
       "      <td>Walking/Cycling on Sidewalk</td>\n",
       "      <td>NO IMPROPER ACTIONS</td>\n",
       "      <td>DRIVEWAY ACCESS MARKED CROSSWALK</td>\n",
       "      <td>NO PED. SIGNAL</td>\n",
       "      <td>MIXED CLOTHING</td>\n",
       "      <td>No</td>\n",
       "    </tr>\n",
       "    <tr>\n",
       "      <th>1</th>\n",
       "      <td>MCP28000052</td>\n",
       "      <td>220014387</td>\n",
       "      <td>Injury Crash</td>\n",
       "      <td>OTHER CONVEYANCE</td>\n",
       "      <td>NONE DETECTED</td>\n",
       "      <td>N/A, NONE DETECTED</td>\n",
       "      <td>Yes</td>\n",
       "      <td>NO APPARENT INJURY</td>\n",
       "      <td>NaN</td>\n",
       "      <td>LOOKED BUT DID NOT SEE</td>\n",
       "      <td>0</td>\n",
       "      <td>OTHER CONVEYANCE</td>\n",
       "      <td>Walking/Cycling on Sidewalk</td>\n",
       "      <td>NO IMPROPER ACTIONS</td>\n",
       "      <td>DRIVEWAY ACCESS MARKED CROSSWALK</td>\n",
       "      <td>NO PED. SIGNAL</td>\n",
       "      <td>MIXED CLOTHING</td>\n",
       "      <td>No</td>\n",
       "    </tr>\n",
       "    <tr>\n",
       "      <th>2</th>\n",
       "      <td>MCP32390021</td>\n",
       "      <td>220015651</td>\n",
       "      <td>Injury Crash</td>\n",
       "      <td>PEDESTRIAN</td>\n",
       "      <td>UNKNOWN</td>\n",
       "      <td>NaN</td>\n",
       "      <td>Yes</td>\n",
       "      <td>NO APPARENT INJURY</td>\n",
       "      <td>NaN</td>\n",
       "      <td>UNKNOWN</td>\n",
       "      <td>25</td>\n",
       "      <td>PEDESTRIAN</td>\n",
       "      <td>Unknown</td>\n",
       "      <td>NO IMPROPER ACTIONS</td>\n",
       "      <td>ON ROADWAY NOT AT CROSSWALK</td>\n",
       "      <td>NaN</td>\n",
       "      <td>MIXED CLOTHING</td>\n",
       "      <td>No</td>\n",
       "    </tr>\n",
       "    <tr>\n",
       "      <th>3</th>\n",
       "      <td>EJ78890025</td>\n",
       "      <td>220014084</td>\n",
       "      <td>Injury Crash</td>\n",
       "      <td>PEDESTRIAN</td>\n",
       "      <td>UNKNOWN</td>\n",
       "      <td>NONE DETECTED</td>\n",
       "      <td>Yes</td>\n",
       "      <td>NO APPARENT INJURY</td>\n",
       "      <td>NaN</td>\n",
       "      <td>NOT DISTRACTED</td>\n",
       "      <td>5</td>\n",
       "      <td>PEDESTRIAN</td>\n",
       "      <td>Standing</td>\n",
       "      <td>NO IMPROPER ACTIONS</td>\n",
       "      <td>OTHER</td>\n",
       "      <td>NO PED. SIGNAL</td>\n",
       "      <td>DARK CLOTHING</td>\n",
       "      <td>No</td>\n",
       "    </tr>\n",
       "    <tr>\n",
       "      <th>4</th>\n",
       "      <td>MCP2720006P</td>\n",
       "      <td>220015282</td>\n",
       "      <td>Injury Crash</td>\n",
       "      <td>PEDESTRIAN</td>\n",
       "      <td>UNKNOWN</td>\n",
       "      <td>UNKNOWN</td>\n",
       "      <td>Yes</td>\n",
       "      <td>NO APPARENT INJURY</td>\n",
       "      <td>NaN</td>\n",
       "      <td>UNKNOWN</td>\n",
       "      <td>30</td>\n",
       "      <td>PEDESTRIAN</td>\n",
       "      <td>Cross/Enter at Intersection</td>\n",
       "      <td>UNKNOWN</td>\n",
       "      <td>ON ROADWAY AT CROSSWALK</td>\n",
       "      <td>OBEYED PED. SIGNAL</td>\n",
       "      <td>UNKNOWN</td>\n",
       "      <td>No</td>\n",
       "    </tr>\n",
       "  </tbody>\n",
       "</table>\n",
       "</div>"
      ],
      "text/plain": [
       "  Report Number Local Case Number ACRS Report Type Related Non-Motorist  \\\n",
       "0   MCP28000052         220014387     Injury Crash     OTHER CONVEYANCE   \n",
       "1   MCP28000052         220014387     Injury Crash     OTHER CONVEYANCE   \n",
       "2   MCP32390021         220015651     Injury Crash           PEDESTRIAN   \n",
       "3    EJ78890025         220014084     Injury Crash           PEDESTRIAN   \n",
       "4   MCP2720006P         220015282     Injury Crash           PEDESTRIAN   \n",
       "\n",
       "  Driver Substance Abuse Non-Motorist Substance Abuse Driver At Fault  \\\n",
       "0          NONE DETECTED           N/A, NONE DETECTED             Yes   \n",
       "1          NONE DETECTED           N/A, NONE DETECTED             Yes   \n",
       "2                UNKNOWN                          NaN             Yes   \n",
       "3                UNKNOWN                NONE DETECTED             Yes   \n",
       "4                UNKNOWN                      UNKNOWN             Yes   \n",
       "\n",
       "      Injury Severity Circumstance    Driver Distracted By  Speed Limit  \\\n",
       "0  NO APPARENT INJURY          NaN  LOOKED BUT DID NOT SEE            0   \n",
       "1  NO APPARENT INJURY          NaN  LOOKED BUT DID NOT SEE            0   \n",
       "2  NO APPARENT INJURY          NaN                 UNKNOWN           25   \n",
       "3  NO APPARENT INJURY          NaN          NOT DISTRACTED            5   \n",
       "4  NO APPARENT INJURY          NaN                 UNKNOWN           30   \n",
       "\n",
       "    Pedestrian Type          Pedestrian Movement   Pedestrian Actions  \\\n",
       "0  OTHER CONVEYANCE  Walking/Cycling on Sidewalk  NO IMPROPER ACTIONS   \n",
       "1  OTHER CONVEYANCE  Walking/Cycling on Sidewalk  NO IMPROPER ACTIONS   \n",
       "2        PEDESTRIAN                      Unknown  NO IMPROPER ACTIONS   \n",
       "3        PEDESTRIAN                     Standing  NO IMPROPER ACTIONS   \n",
       "4        PEDESTRIAN  Cross/Enter at Intersection              UNKNOWN   \n",
       "\n",
       "                Pedestrian Location Pedestrian Obeyed Traffic Signal  \\\n",
       "0  DRIVEWAY ACCESS MARKED CROSSWALK                   NO PED. SIGNAL   \n",
       "1  DRIVEWAY ACCESS MARKED CROSSWALK                   NO PED. SIGNAL   \n",
       "2       ON ROADWAY NOT AT CROSSWALK                              NaN   \n",
       "3                             OTHER                   NO PED. SIGNAL   \n",
       "4           ON ROADWAY AT CROSSWALK               OBEYED PED. SIGNAL   \n",
       "\n",
       "  Pedestrian Visibility Pedestrian At Fault  \n",
       "0        MIXED CLOTHING                  No  \n",
       "1        MIXED CLOTHING                  No  \n",
       "2        MIXED CLOTHING                  No  \n",
       "3         DARK CLOTHING                  No  \n",
       "4               UNKNOWN                  No  "
      ]
     },
     "execution_count": 9,
     "metadata": {},
     "output_type": "execute_result"
    }
   ],
   "source": [
    "# Add columns to a new DataFrame for all visualizations\n",
    "\n",
    "driver_distraction_df = pd.merge(county_reduced_df,non_motorist_reduced_df,on=['Report Number','Local Case Number'])\n",
    "driver_distraction_df = driver_distraction_df.rename(columns={'At Fault':'Pedestrian At Fault'})\n",
    "driver_distraction_df.head()"
   ]
  },
  {
   "cell_type": "code",
   "execution_count": 10,
   "metadata": {},
   "outputs": [],
   "source": [
    "# CSV transformation for convenience\n",
    "\n",
    "driver_distraction_df.to_csv(\"data/Driver_Distraction.csv\",index=False)"
   ]
  },
  {
   "cell_type": "code",
   "execution_count": 11,
   "metadata": {},
   "outputs": [
    {
     "data": {
      "text/plain": [
       "Driver At Fault        358\n",
       "Pedestrian At Fault    117\n",
       "Unknown                 75\n",
       "Neither at Fault        17\n",
       "Both at Fault           16\n",
       "Name: Who is At Fault, dtype: int64"
      ]
     },
     "execution_count": 11,
     "metadata": {},
     "output_type": "execute_result"
    }
   ],
   "source": [
    "# New column to determine who is at fault (driver vs. pediatrician)\n",
    "\n",
    "driver = driver_distraction_df['Driver At Fault']\n",
    "pedestrian = driver_distraction_df['Pedestrian At Fault']\n",
    "\n",
    "conditions = [\n",
    "    (driver.eq('Yes') & pedestrian.eq('No')),\n",
    "    (driver.eq('No') & pedestrian.eq('Yes')),\n",
    "    (driver.eq('No') & pedestrian.eq('No')),\n",
    "    (driver.eq('Yes') & pedestrian.eq('Yes')),\n",
    "]\n",
    "\n",
    "choices = [\n",
    "    'Driver At Fault',\n",
    "    'Pedestrian At Fault',\n",
    "    'Neither at Fault',\n",
    "    'Both at Fault',\n",
    "]\n",
    "\n",
    "driver_distraction_df['Who is At Fault'] = np.select(conditions, choices, 'Unknown')\n",
    "\n",
    "driver_distraction_df['Who is At Fault'].value_counts()"
   ]
  },
  {
   "cell_type": "code",
   "execution_count": 12,
   "metadata": {},
   "outputs": [
    {
     "data": {
      "text/plain": [
       "ACRS Report Type       Who is At Fault    \n",
       "Fatal Crash            Both at Fault            1\n",
       "                       Driver At Fault          3\n",
       "                       Pedestrian At Fault      5\n",
       "                       Unknown                  7\n",
       "Injury Crash           Both at Fault           15\n",
       "                       Driver At Fault        327\n",
       "                       Neither at Fault        15\n",
       "                       Pedestrian At Fault    103\n",
       "                       Unknown                 65\n",
       "Property Damage Crash  Driver At Fault         28\n",
       "                       Neither at Fault         2\n",
       "                       Pedestrian At Fault      9\n",
       "                       Unknown                  3\n",
       "dtype: int64"
      ]
     },
     "execution_count": 12,
     "metadata": {},
     "output_type": "execute_result"
    }
   ],
   "source": [
    "# Table to view fault by ACRS type\n",
    "\n",
    "ACRS_grouped = driver_distraction_df.groupby(['ACRS Report Type','Who is At Fault']).size()\n",
    "ACRS_grouped"
   ]
  },
  {
   "cell_type": "code",
   "execution_count": 13,
   "metadata": {},
   "outputs": [
    {
     "data": {
      "image/png": "[encoded data removed]",
      "text/plain": [
       "<Figure size 432x288 with 1 Axes>"
      ]
     },
     "metadata": {},
     "output_type": "display_data"
    }
   ],
   "source": [
    "# \"ACRS Report Type\" pie chart\n",
    "\n",
    "ACRS_values = driver_distraction_df['ACRS Report Type'].value_counts()\n",
    "fault_values = driver_distraction_df.groupby(['ACRS Report Type','Who is At Fault']).sum()\n",
    "\n",
    "width = 0.3\n",
    "wedge_properties = {'width':width,'edgecolor':'w','linewidth':2}\n",
    "\n",
    "plt.pie(ACRS_values, labeldistance=0.85,wedgeprops=wedge_properties)\n",
    "plt.pie(fault_values,labeldistance=0.75,radius=1-width,wedgeprops=wedge_properties)\n",
    "plt.title(\"ACRS Report Type\")\n",
    "plt.show()"
   ]
  },
  {
   "cell_type": "code",
   "execution_count": 14,
   "metadata": {},
   "outputs": [
    {
     "data": {
      "text/html": [
       "<div>\n",
       "<style scoped>\n",
       "    .dataframe tbody tr th:only-of-type {\n",
       "        vertical-align: middle;\n",
       "    }\n",
       "\n",
       "    .dataframe tbody tr th {\n",
       "        vertical-align: top;\n",
       "    }\n",
       "\n",
       "    .dataframe thead th {\n",
       "        text-align: right;\n",
       "    }\n",
       "</style>\n",
       "<table border=\"1\" class=\"dataframe\">\n",
       "  <thead>\n",
       "    <tr style=\"text-align: right;\">\n",
       "      <th></th>\n",
       "      <th>Driver Substance Abuse</th>\n",
       "      <th>Non-Motorist Substance Abuse</th>\n",
       "    </tr>\n",
       "  </thead>\n",
       "  <tbody>\n",
       "    <tr>\n",
       "      <th>0</th>\n",
       "      <td>NONE DETECTED</td>\n",
       "      <td>N/A</td>\n",
       "    </tr>\n",
       "    <tr>\n",
       "      <th>1</th>\n",
       "      <td>NONE DETECTED</td>\n",
       "      <td>N/A</td>\n",
       "    </tr>\n",
       "    <tr>\n",
       "      <th>2</th>\n",
       "      <td>UNKNOWN</td>\n",
       "      <td>N/A</td>\n",
       "    </tr>\n",
       "    <tr>\n",
       "      <th>3</th>\n",
       "      <td>UNKNOWN</td>\n",
       "      <td>NONE DETECTED</td>\n",
       "    </tr>\n",
       "    <tr>\n",
       "      <th>4</th>\n",
       "      <td>UNKNOWN</td>\n",
       "      <td>UNKNOWN</td>\n",
       "    </tr>\n",
       "  </tbody>\n",
       "</table>\n",
       "</div>"
      ],
      "text/plain": [
       "  Driver Substance Abuse Non-Motorist Substance Abuse\n",
       "0          NONE DETECTED                          N/A\n",
       "1          NONE DETECTED                          N/A\n",
       "2                UNKNOWN                          N/A\n",
       "3                UNKNOWN                NONE DETECTED\n",
       "4                UNKNOWN                      UNKNOWN"
      ]
     },
     "execution_count": 14,
     "metadata": {},
     "output_type": "execute_result"
    }
   ],
   "source": [
    "# Substanse Abuse DF\n",
    "\n",
    "substance_abuse_df = driver_distraction_df.loc[:,['Driver Substance Abuse','Non-Motorist Substance Abuse']]\n",
    "substance_abuse_df['Non-Motorist Substance Abuse'] = substance_abuse_df['Non-Motorist Substance Abuse'].replace(['N/A, NONE DETECTED'],'N/A')\n",
    "substance_abuse_df = substance_abuse_df.fillna(\"N/A\")\n",
    "\n",
    "substance_abuse_df.head()"
   ]
  },
  {
   "cell_type": "code",
   "execution_count": 31,
   "metadata": {},
   "outputs": [
    {
     "data": {
      "image/png": "[encoded data removed]",
      "text/plain": [
       "<Figure size 432x288 with 1 Axes>"
      ]
     },
     "metadata": {
      "needs_background": "light"
     },
     "output_type": "display_data"
    },
    {
     "data": {
      "text/plain": [
       "<Figure size 432x288 with 0 Axes>"
      ]
     },
     "metadata": {},
     "output_type": "display_data"
    }
   ],
   "source": [
    "# Bar Graph to compare substance abuse between driver and non-motorist/pedestrian\n",
    "\n",
    "dsa = pd.value_counts(substance_abuse_df['Driver Substance Abuse'].values,sort=True)\n",
    "nmsa = pd.value_counts(substance_abuse_df['Non-Motorist Substance Abuse'].values,sort=True)\n",
    "\n",
    "x_axis = np.arange(len(dsa))\n",
    "tick_locations = [value for value in x_axis]\n",
    "plt.xticks(tick_locations, ['None Detected','N/A','Unknown','Alcohol Present','Alcohol Contributed','Illegal Drug(s) Present'],rotation=45)\n",
    "\n",
    "driver_plot = plt.bar(x_axis-0.2,dsa,width=0.35,label='Driver Substance Abuse')\n",
    "pedestrian_plot = plt.bar(x_axis+0.2,nmsa,width=0.35,label=\"Non-Motorist Substance Abuse\")\n",
    "\n",
    "plt.legend(handles=[driver_plot,pedestrian_plot],loc='best')\n",
    "plt.title(\"Substance Abuse\")\n",
    "plt.xlabel(\"Types of Substance Abuse\")\n",
    "plt.ylabel(\"Counts of Substance Abuse\")\n",
    "plt.grid()\n",
    "\n",
    "plt.show()\n",
    "plt.savefig(\"images/Driver_And_Non-Motorist_Substance_Abuse.png\")"
   ]
  },
  {
   "cell_type": "code",
   "execution_count": 32,
   "metadata": {},
   "outputs": [
    {
     "data": {
      "image/png": "[encoded data removed]",
      "text/plain": [
       "<Figure size 432x288 with 1 Axes>"
      ]
     },
     "metadata": {
      "needs_background": "light"
     },
     "output_type": "display_data"
    },
    {
     "data": {
      "text/plain": [
       "<Figure size 432x288 with 0 Axes>"
      ]
     },
     "metadata": {},
     "output_type": "display_data"
    }
   ],
   "source": [
    "# Bar Graph to count driver distractions\n",
    "\n",
    "ddb = pd.value_counts(driver_distraction_df['Driver Distracted By'].values,sort=True)\n",
    "\n",
    "ddb_x_axis = np.arange(len(ddb))\n",
    "tick_locations = [value for value in ddb_x_axis]\n",
    "plt.xticks(tick_locations,['Not Distracted','Looked But Did Not See','Uknown','Inattentive or Lost in Thought','Other Distraction','Other Cellular Phone Related','Distracted by Something Outside','Smoking Related','Talking or Texting On Cellular Phone','By Other Occupants','Using Device Brought Into Vehicle','Dialing Cellular Phone'],rotation='vertical')\n",
    "\n",
    "plt.bar(ddb_x_axis,ddb,width=0.50)\n",
    "\n",
    "plt.title(\"Driver Distraction\")\n",
    "plt.xlabel(\"Types of Distraction\")\n",
    "plt.ylabel(\"Counts of Distraction\")\n",
    "plt.grid()\n",
    "\n",
    "plt.show()\n",
    "plt.savefig(\"images/Driver_Distractions.png\")"
   ]
  },
  {
   "cell_type": "code",
   "execution_count": 30,
   "metadata": {},
   "outputs": [
    {
     "data": {
      "text/plain": [
       "ACRS Report Type       Driver Distracted By                        \n",
       "Fatal Crash            NOT DISTRACTED                                    5\n",
       "                       TALKING OR LISTENING TO CELLULAR PHONE            1\n",
       "                       UNKNOWN                                          10\n",
       "Injury Crash           BY OTHER OCCUPANTS                                2\n",
       "                       DISTRACTED BY OUTSIDE PERSON OBJECT OR EVENT      4\n",
       "                       INATTENTIVE OR LOST IN THOUGHT                   13\n",
       "                       LOOKED BUT DID NOT SEE                          163\n",
       "                       NOT DISTRACTED                                  195\n",
       "                       OTHER CELLULAR PHONE RELATED                      4\n",
       "                       OTHER DISTRACTION                                 9\n",
       "                       SMOKING RELATED                                   3\n",
       "                       TALKING OR LISTENING TO CELLULAR PHONE            2\n",
       "                       UNKNOWN                                         129\n",
       "                       USING DEVICE OBJECT BROUGHT INTO VEHICLE          1\n",
       "Property Damage Crash  DIALING CELLULAR PHONE                            1\n",
       "                       INATTENTIVE OR LOST IN THOUGHT                    2\n",
       "                       LOOKED BUT DID NOT SEE                           13\n",
       "                       NOT DISTRACTED                                   22\n",
       "                       UNKNOWN                                           4\n",
       "dtype: int64"
      ]
     },
     "execution_count": 30,
     "metadata": {},
     "output_type": "execute_result"
    }
   ],
   "source": [
    "# Table to view the types of distractions with ACRS report type\n",
    "\n",
    "ACRS_distraction_grouped = driver_distraction_df.groupby(['ACRS Report Type','Driver Distracted By']).size()\n",
    "ACRS_distraction_grouped"
   ]
  }
 ],
 "metadata": {
  "kernelspec": {
   "display_name": "PythonData",
   "language": "python",
   "name": "python3"
  },
  "language_info": {
   "codemirror_mode": {
    "name": "ipython",
    "version": 3
   },
   "file_extension": ".py",
   "mimetype": "text/x-python",
   "name": "python",
   "nbconvert_exporter": "python",
   "pygments_lexer": "ipython3",
   "version": "3.7.7"
  },
  "orig_nbformat": 4
 },
 "nbformat": 4,
 "nbformat_minor": 2
}
